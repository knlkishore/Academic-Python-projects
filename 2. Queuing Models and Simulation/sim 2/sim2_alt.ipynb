{
 "cells": [
  {
   "cell_type": "markdown",
   "metadata": {
    "id": "rX1P4HJQV_ky"
   },
   "source": [
    "**Question 1: Coin Flipping Game**\n",
    "\n",
    "Rules of the game:\n",
    "\n",
    "\n",
    "1.   Each play of the game involves repeatedly flipping an unbiased coin until the difference between the number of heads and tails tossed is three.\n",
    "2.   To play the game, you are required to pay Rs. 10 for each flip of the coin. You are not allowed to quit during the play of a game.\n",
    "3. You receive Rs. 80 at the end of each play of the game.\n",
    "\n",
    "A few instances:\n",
    "\n",
    "\n",
    "*   HHH -- 3 flips  -- You win Rs. 50\n",
    "*   THTTT -- 5 flips --  You win Rs. 30\n",
    "*   THHTHTHTTTT -- 11 flips  -- You loose Rs 30\n",
    "\n",
    "Use Monte-Carlo simulation to find out the winning probability and the expected profit/loss. \n"
   ]
  },
  {
   "cell_type": "code",
   "execution_count": 3,
   "metadata": {
    "colab": {
     "base_uri": "https://localhost:8080/"
    },
    "id": "b-ZfvTmcWxdJ",
    "outputId": "6e9a1f78-540b-4dc6-a93a-9ed3673b9621"
   },
   "outputs": [
    {
     "name": "stdout",
     "output_type": "stream",
     "text": [
      "Enter total trail runs for Monte Carlo Simulation: 10000\n",
      "Winning probability:  0.2485\n",
      "Expected Profit:  -78.926\n"
     ]
    }
   ],
   "source": [
    "#Insert your code here\n",
    "import numpy.random as rnd\n",
    "import numpy as np\n",
    "profit = []\n",
    "win = 0\n",
    "coin=['Heads', 'Tails']\n",
    "rnd.seed(41)# Set your random seed here\n",
    "total_trail_runs = int(input(\"Enter total trail runs for Monte Carlo Simulation: \"))\n",
    "for i in range (0,total_trail_runs):\n",
    "  h=0 #Counter for keeping track of number of heads\n",
    "  t=0 #Counter for keeping track of number of tails\n",
    "  while(1):\n",
    "    o = rnd.choice(coin)\n",
    "    if o == 'Heads':\n",
    "      h = h+1\n",
    "    if o == 'Tails':\n",
    "      t = t+1\n",
    "    if (np.abs(h-t)>3):\n",
    "     break\n",
    "  profit.append(80 - (h+t)*10)\n",
    "  if ((80 - (h+t)*10)>0):\n",
    "    win = win + 1\n",
    "print ('Winning probability: ', win/total_trail_runs)\n",
    "print ('Expected Profit: ', np.mean(profit))"
   ]
  },
  {
   "cell_type": "markdown",
   "metadata": {
    "id": "6YQZegY6XHww"
   },
   "source": [
    "**Question 2: Vistara Airlines Overbooking Problem**\n",
    "\n",
    "\n",
    "\n",
    "1.   Vistara has a daily flight (excluding weekends) from Delhi to\n",
    "Mumbai that is mainly used by business travelers.\n",
    "2. There are 150 seats available in a single cabin.\n",
    "3. The average fare per seat is Rs 3000. This is a non-refundable fare,\n",
    "so no-shows forfeit the entire fare.\n",
    "4. The fixed cost of operating the flight is Rs 300000.\n",
    "5. The average number of reservation requests for this flight has been\n",
    "195, with a standard deviation of 30.\n",
    "6. Only 80% of passengers with a reservation actually show up to take\n",
    "the flight, so it makes sense to take more than 150 reservations\n",
    "(overbooking).\n",
    "7. If more passengers arrive to take the flight than there are seats, some\n",
    "passengers must be “bumped”. The total cost (including rebooking,\n",
    "travel vouchers, and lost goodwill) is estimated to be Rs 4500.\n",
    "\n",
    "The management science group now wants to investigate the option of\n",
    "accepting 190 reservation by using computer simulation.\n",
    "\n",
    "* The profit.\n",
    "* The number of filled sheets.\n",
    "* The number of customers denied booking.\n",
    "\n",
    "**Hint:** The average number of reservation request should be modeled using Normal distribution. The number of people that show-up should be modeled as binomial random variable with success probability as 0.8. \n"
   ]
  },
  {
   "cell_type": "code",
   "execution_count": 15,
   "metadata": {
    "colab": {
     "base_uri": "https://localhost:8080/"
    },
    "id": "UCCtV4S_Yp7P",
    "outputId": "245ef257-80ff-4628-e8c6-d25614f3b2e4"
   },
   "outputs": [
    {
     "name": "stdout",
     "output_type": "stream",
     "text": [
      "Enter total trail runs for Monte Carlo Simulation: 5000\n",
      "Average Profit: 254936.7\n",
      "Average rejected seats: 25.557814875953362\n",
      "Average filled seats:  148.67\n"
     ]
    }
   ],
   "source": [
    "#Insert your code here\n",
    "import numpy as np\n",
    "import numpy.random as rnd\n",
    "total_trail_runs = int(input(\"Enter total trail runs for Monte Carlo Simulation: \"))\n",
    "rejected = [] # To keep track of rejected requests\n",
    "profit = [] # \n",
    "filled = [] #\n",
    "rnd.seed(86)# Set your random seed here\n",
    "for i in range (0,total_trail_runs):\n",
    "  loss = 0\n",
    "  r = rnd.normal(195,30) # generating a normal random variable with mean 195 and standard deviation 30\n",
    "  if (r>190): # Management is interested in contemplating 190 seats\n",
    "    rejected.append(r-190)\n",
    "  p = rnd.binomial(190,0.8) # generating a binomial random variable with success probability 0.8 out of 190 trails\n",
    "  if (p>=150):\n",
    "    filled.append(150)\n",
    "  if (p<150):\n",
    "    filled.append(p)\n",
    "  if (p > 150):\n",
    "    loss = (p - 150)*4500\n",
    "  profit.append((190*3000)-300000-loss)\n",
    "print ('Average Profit:', np.mean(profit))\n",
    "print ('Average rejected seats:', np.mean(rejected))\n",
    "print ('Average filled seats: ',np.mean(filled))"
   ]
  },
  {
   "cell_type": "markdown",
   "metadata": {
    "id": "Tiy2oymlZfGp"
   },
   "source": [
    "**Question 3: Business Planning**\n",
    "\n",
    "Imagine you are the marketing manager for a firm that is planning to\n",
    "introduce a new product. You need to estimate the first year net profit\n",
    "from this product, which will depend on:\n",
    "\n",
    "* Sales volume in units\n",
    "* Price per unit\n",
    "* Unit cost\n",
    "* Fixed costs\n",
    "\n",
    "Net profit will be calculated as Net Profit = Sales Volume × (Selling\n",
    "Price - Unit cost) - Fixed costs. Fixed costs are known to be Rs.\n",
    "120,000. But the other factors all involve some uncertainty. Sales volume\n",
    "(in units) can cover quite a range, and the selling price per unit will\n",
    "depend on competitor actions. Unit costs will also vary depending on\n",
    "vendor prices and production experience.\n",
    "\n",
    "***Market Research:***\n",
    "\n",
    "Based on your market research, you believe that there are equal chances\n",
    "(equal probability) that the market will be cold, so-so or hot.\n",
    "\n",
    "- In the “cold market” scenario, you expect to sell 50000 units at an\n",
    "average price of Rs 11 per unit.\n",
    "\n",
    "- In the “so-so market” scenario, you expect to sell 75,000 units, but\n",
    "you are likely realize a lower average selling price of Rs 10.00 per\n",
    "unit.\n",
    "\n",
    "- In the “hot market” scenario, you expect to sell 100,000 units, but\n",
    "this will bring in competitors who will drive down the average selling\n",
    "price to Rs 8.00 per unit.\n",
    "\n",
    "Another uncertain variable is Unit Cost. Your firm’s production manager\n",
    "advises you that unit costs may be anywhere from Rs 5.50 to Rs 7.50,\n",
    "with a most likely cost of Rs 6.50. In this case, the most likely cost is\n",
    "also the average cost. The best way to model the unit cost is via\n",
    "triangular distribution. Use Monte-carlo simulation using python to find\n",
    "the average Net Profit across 1,000 or more scenarios (or trials). Present\n",
    "your analysis.\n"
   ]
  },
  {
   "cell_type": "code",
   "execution_count": 18,
   "metadata": {
    "colab": {
     "base_uri": "https://localhost:8080/"
    },
    "id": "qL8QAZcUa7KA",
    "outputId": "0b1b4ae5-abe8-40a6-d08e-06e1b8f98037"
   },
   "outputs": [
    {
     "name": "stdout",
     "output_type": "stream",
     "text": [
      "Enter the number of trails for Monte-carlo Simulation (larger than 1000) :5000\n",
      "Average net profit is 97007.68390761159\n"
     ]
    }
   ],
   "source": [
    "#Insert your code\n",
    "import numpy as np\n",
    "import matplotlib.pyplot as plt\n",
    "import random as rnd\n",
    "total_trail_runs=int(input(\"Enter the number of trails for Monte-carlo Simulation (larger than 1000) :\"))\n",
    "sum = 0\n",
    "rnd.seed(86)\n",
    "market_type= [\"cold market\", \"hot market\",\"so so market\"]\n",
    "for i in range(total_trail_runs):\n",
    "  net_profit=0\n",
    "  market = rnd.choice(market_type)\n",
    "  if market == \"cold market\":\n",
    "    net_profit = 50000*(11- rnd.triangular(5.5,6.5,7.5)) - 120000\n",
    "  elif market == \"hot market\":\n",
    "    net_profit = 100000*(8- rnd.triangular(5.5,6.5,7.5)) - 120000\n",
    "  else:\n",
    "    net_profit = 75000*(10- rnd.triangular(5.5,6.5,7.5)) - 120000\n",
    "  sum = sum + net_profit\n",
    " # print(\"For market which is of type \",market,\" netprofit is \", net_profit)\n",
    "\n",
    "print(\"Average net profit is\", sum/total_trail_runs)\n"
   ]
  },
  {
   "cell_type": "code",
   "execution_count": null,
   "metadata": {
    "id": "zE6CH5mqT5Py"
   },
   "outputs": [],
   "source": []
  }
 ],
 "metadata": {
  "colab": {
   "name": "Quiz_2_Solution_Keys.ipynb",
   "provenance": []
  },
  "kernelspec": {
   "display_name": "Python 3 (ipykernel)",
   "language": "python",
   "name": "python3"
  },
  "language_info": {
   "codemirror_mode": {
    "name": "ipython",
    "version": 3
   },
   "file_extension": ".py",
   "mimetype": "text/x-python",
   "name": "python",
   "nbconvert_exporter": "python",
   "pygments_lexer": "ipython3",
   "version": "3.9.13"
  }
 },
 "nbformat": 4,
 "nbformat_minor": 1
}
