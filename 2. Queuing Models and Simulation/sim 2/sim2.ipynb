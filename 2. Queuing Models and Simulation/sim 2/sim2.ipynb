{
 "cells": [
  {
   "cell_type": "markdown",
   "metadata": {
    "id": "QbDle48VnYgZ"
   },
   "source": [
    "# Please set the random seed as the last two digits of your enrollment numbers in all the questions. Question 1 is mandatory and you need to solve one of the Questions between 2, 3 and 4. "
   ]
  },
  {
   "cell_type": "markdown",
   "metadata": {
    "id": "DDeQnjEsdoxg"
   },
   "source": [
    "**Question 1: Simulating Markov chains**\n",
    "\n",
    "Consider the maze shown. There are 3 cells (Cell 1, Cell 2, Cell 3) and two deadly and permanent outcomes (Death by poison and Death by drowning). When rat enters Cell i, he wanders around within the cell for Xi minutes where Xi is\n",
    "Gamma(4, 3i) , and then exits the cell by picking one of the doors (shown as gaps in the figure) at random. Rat is initially equally likely to be in cell 1 or 2 or 3. Answer the following using Monte Carlo Simulation.\n",
    "\n",
    "(a) Estimate the probability that the rat dies by water.\n",
    "\n",
    "(b) What is the expected duration the rat lives?\n",
    "\n",
    "![image.png](data:image/png;base64,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)"
   ]
  },
  {
   "cell_type": "code",
   "execution_count": 1,
   "metadata": {},
   "outputs": [],
   "source": [
    "# Libraries\n",
    "import numpy.random as rnd\n",
    "import numpy as np\n",
    "import matplotlib.pyplot as plt"
   ]
  },
  {
   "cell_type": "code",
   "execution_count": 2,
   "metadata": {},
   "outputs": [],
   "source": [
    "#Question 1 Solution\n",
    "currentCell = 0\n",
    "timespent=0.0\n",
    "z=0\n",
    "\n",
    "durations=[]\n",
    "Poisoncount = 0\n",
    "Watercount = 0\n",
    "n= 50000\n",
    "rnd.seed(41)\n",
    "\n",
    "for i in range(n): \n",
    "\n",
    "    #selecting the initial cell for this round\n",
    "    z = rnd.randint(0,3)\n",
    "    if z == 0:\n",
    "        currentCell = 1\n",
    "    if z == 1:\n",
    "        currentCell = 3\n",
    "    if z == 2:\n",
    "        currentCell = 4\n",
    "                    \n",
    "    \n",
    "    timespent=0.0\n",
    "    while (currentCell not in [4, 5]):  #4 can indicate Poison cell and 5 can indicate Water cell\n",
    "            timespent = timespent + rnd.gamma(4,3*currentCell)\n",
    "            if currentCell == 1:\n",
    "                z = rnd.randint(0,2)\n",
    "                if z == 0:\n",
    "                    currentCell = 2\n",
    "                if z == 1:\n",
    "                    currentCell = 5\n",
    "            elif currentCell == 2:\n",
    "                z = rnd.randint(0,3)\n",
    "                if z == 0:\n",
    "                    currentCell = 1\n",
    "                if z == 1:\n",
    "                    currentCell = 3\n",
    "                if z == 2:\n",
    "                    currentCell = 4\n",
    "            else: #currentCell is 3\n",
    "                z = rnd.randint(0,3)\n",
    "                if z == 0:\n",
    "                    currentCell = 2\n",
    "                if z == 1:\n",
    "                    currentCell = 5\n",
    "                if z == 2:\n",
    "                    currentCell = 4\n",
    "    if currentCell == 4:\n",
    "        Poisoncount = Poisoncount+1\n",
    "        \n",
    "    if currentCell == 5:\n",
    "        Watercount = Watercount+1\n",
    "\n",
    "    durations.append(timespent)"
   ]
  },
  {
   "cell_type": "code",
   "execution_count": 3,
   "metadata": {},
   "outputs": [
    {
     "name": "stdout",
     "output_type": "stream",
     "text": [
      "After running 50000 round in Simulation\n",
      "Probability that the rat dies by water: 0.3845\n",
      "Expected duration the rat lives: 31.257940482218828 minutes\n"
     ]
    }
   ],
   "source": [
    "print(\"After running\",n,\"round in Simulation\")\n",
    "\n",
    "#(a) Estimate the probability that the rat dies by Water drowing.\n",
    "print(\"Probability that the rat dies by water:\" , Watercount/n)\n",
    "\n",
    "#(b) What is the expected duration the rat lives?\n",
    "print(\"Expected duration the rat lives:\" , np.mean(durations) , \"minutes\")"
   ]
  },
  {
   "cell_type": "markdown",
   "metadata": {
    "id": "rX1P4HJQV_ky"
   },
   "source": [
    "**Question 2: Coin Flipping Game**\n",
    "\n",
    "Rules of the game:\n",
    "\n",
    "\n",
    "1.   Each play of the game involves repeatedly flipping an unbiased coin until the difference between the number of heads and tails tossed is three.\n",
    "2.   To play the game, you are required to pay Rs. 10 for each flip of the coin. You are not allowed to quit during the play of a game.\n",
    "3. You receive Rs. 80 at the end of each play of the game.\n",
    "\n",
    "A few instances:\n",
    "\n",
    "\n",
    "*   HHH -- 3 flips  -- You win Rs. 50\n",
    "*   THTTT -- 5 flips --  You win Rs. 30\n",
    "*   THHTHTHTTTT -- 11 flips  -- You loose Rs 30\n",
    "\n",
    "Use Monte-Carlo simulation to find out the winning probability and the expected profit/loss. \n"
   ]
  },
  {
   "cell_type": "code",
   "execution_count": 4,
   "metadata": {
    "id": "b-ZfvTmcWxdJ"
   },
   "outputs": [
    {
     "name": "stdout",
     "output_type": "stream",
     "text": [
      "After running 10000 round in Simulation\n",
      "Winning probability: 0.5845\n",
      "Expected profit/loss from the game: -9.864\n",
      "\n",
      "Winning probability is the probability of games where total earning at end of game is above or equal to zero\n"
     ]
    }
   ],
   "source": [
    "#Insert your code here\n",
    "\n",
    "# Libraries\n",
    "import numpy.random as rnd\n",
    "import numpy as np\n",
    "import matplotlib.pyplot as plt\n",
    "\n",
    "#Variable declarations (they will be initialized inside the loop)\n",
    "Amt = 0 #Initial money at start of of the game\n",
    "N_head = 0 #no of heads\n",
    "N_tail = 0 #no of tails\n",
    "T = 0 # total earning from game\n",
    "k = 0 # measure total no of flips in the game \n",
    "pos = 0 #measure matches where the player money at end of game is above or equal to zero\n",
    "nev = 0 #measure matches where the player money at end of game is below zero\n",
    "\n",
    "N = 10000\n",
    "z = 0 \n",
    "rnd.seed(41)\n",
    "\n",
    "for i in range(N):\n",
    "    N_head = 0 \n",
    "    N_tail = 0 \n",
    "    Amt = 0\n",
    "    \n",
    "    while ( abs(N_head-N_tail) != 3 ):\n",
    "        k = k + 1\n",
    "        Amt =  Amt - 10\n",
    "        \n",
    "        z = rnd.randint(0,2)  #0 denotes tail , 1 denotes head\n",
    "        if z == 0:\n",
    "            N_tail = N_tail + 1\n",
    "        else:\n",
    "            N_head = N_head + 1\n",
    "            \n",
    "    Amt = Amt +80 #receive Rs. 80 at the end of each play of the game\n",
    "    \n",
    "    if Amt >=0:\n",
    "        pos = pos + 1\n",
    "    else:\n",
    "        nev = nev + 1\n",
    "    T = T + Amt\n",
    "    \n",
    "    \n",
    "#Output\n",
    "prec = 4 # decimal precision of the outputs\n",
    "print(\"After running\",N,\"round in Simulation\")\n",
    "print(\"Winning probability:\",round(pos/N,prec))\n",
    "\n",
    "print(\"Expected profit/loss from the game:\", round(T/N,prec))\n",
    "\n",
    "print(\"\\nWinning probability is the probability of games where total earning at end of game is above or equal to zero\")"
   ]
  },
  {
   "cell_type": "code",
   "execution_count": null,
   "metadata": {},
   "outputs": [],
   "source": []
  },
  {
   "cell_type": "code",
   "execution_count": null,
   "metadata": {},
   "outputs": [],
   "source": []
  },
  {
   "cell_type": "markdown",
   "metadata": {},
   "source": [
    "**Question 2: Coin Flipping Game**\n",
    "\n",
    "Rules of the game:\n",
    "\n",
    "\n",
    "1.   Each play of the game involves repeatedly flipping an unbiased coin until the difference between the number of heads and tails tossed is three.\n",
    "2.   To play the game, you are required to pay Rs. 10 for each flip of the coin. You are not allowed to quit during the play of a game.\n",
    "3. You receive Rs. 80 at the end of each play of the game.\n",
    "\n",
    "A few instances:\n",
    "\n",
    "\n",
    "*   HHH -- 3 flips  -- You win Rs. 50\n",
    "*   THTTT -- 5 flips --  You win Rs. 30\n",
    "*   THHTHTHTTTT -- 11 flips  -- You loose Rs 30\n",
    "\n",
    "Use Monte-Carlo simulation to find out the winning probability and the expected profit/loss. \n",
    "\""
   ]
  },
  {
   "cell_type": "code",
   "execution_count": 48,
   "metadata": {},
   "outputs": [],
   "source": [
    "#Insert your code here"
   ]
  },
  {
   "cell_type": "markdown",
   "metadata": {
    "id": "6YQZegY6XHww"
   },
   "source": [
    "**Question 3: Vistara Airlines Overbooking Problem**\n",
    "\n",
    "\n",
    "\n",
    "1.   Vistara has a daily flight (excluding weekends) from Delhi to\n",
    "Mumbai that is mainly used by business travelers.\n",
    "2. There are 150 seats available in a single cabin.\n",
    "3. The average fare per seat is Rs 3000. This is a non-refundable fare,\n",
    "so no-shows forfeit the entire fare.\n",
    "4. The fixed cost of operating the flight is Rs 300000.\n",
    "5. The average number of reservation requests for this flight has been\n",
    "195, with a standard deviation of 30.\n",
    "6. Only 80% of passengers with a reservation actually show up to take\n",
    "the flight, so it makes sense to take more than 150 reservations\n",
    "(overbooking).\n",
    "7. If more passengers arrive to take the flight than there are seats, some\n",
    "passengers must be “bumped”. The total cost (including rebooking,\n",
    "travel vouchers, and lost goodwill) is estimated to be Rs 4500.\n",
    "\n",
    "The management science group now wants to investigate the option of\n",
    "accepting 190 reservation by using computer simulation.\n",
    "\n",
    "* The profit.\n",
    "* The number of filled sheets.\n",
    "* The number of customers denied booking.\n",
    "\n",
    "**Hint:** The average number of reservation request should be modeled using Normal distribution. The number of people that show-up should be modeled as binomial random variable with success probability as 0.8. \n"
   ]
  },
  {
   "cell_type": "code",
   "execution_count": null,
   "metadata": {
    "id": "UCCtV4S_Yp7P"
   },
   "outputs": [],
   "source": [
    "#Insert your code here"
   ]
  },
  {
   "cell_type": "markdown",
   "metadata": {
    "id": "Tiy2oymlZfGp"
   },
   "source": [
    "**Question 4: Business Planning**\n",
    "\n",
    "Imagine you are the marketing manager for a firm that is planning to\n",
    "introduce a new product. You need to estimate the first year net profit\n",
    "from this product, which will depend on:\n",
    "\n",
    "* Sales volume in units\n",
    "* Price per unit\n",
    "* Unit cost\n",
    "* Fixed costs\n",
    "\n",
    "Net profit will be calculated as Net Profit = Sales Volume × (Selling\n",
    "Price - Unit cost) - Fixed costs. Fixed costs are known to be Rs.\n",
    "120,000. But the other factors all involve some uncertainty. Sales volume\n",
    "(in units) can cover quite a range, and the selling price per unit will\n",
    "depend on competitor actions. Unit costs will also vary depending on\n",
    "vendor prices and production experience.\n",
    "\n",
    "***Market Research:***\n",
    "\n",
    "Based on your market research, you believe that there are equal chances\n",
    "(equal probability) that the market will be cold, so-so or hot.\n",
    "\n",
    "- In the “cold market” scenario, you expect to sell 50000 units at an\n",
    "average price of Rs 11 per unit.\n",
    "\n",
    "- In the “so-so market” scenario, you expect to sell 75,000 units, but\n",
    "you are likely realize a lower average selling price of Rs 10.00 per\n",
    "unit.\n",
    "\n",
    "- In the “hot market” scenario, you expect to sell 100,000 units, but\n",
    "this will bring in competitors who will drive down the average selling\n",
    "price to Rs 8.00 per unit.\n",
    "\n",
    "Another uncertain variable is Unit Cost. Your firm’s production manager\n",
    "advises you that unit costs may be anywhere from Rs 5.50 to Rs 7.50,\n",
    "with a most likely cost of Rs 6.50. In this case, the most likely cost is\n",
    "also the average cost. The best way to model the unit cost is via\n",
    "triangular distribution. Use Monte-carlo simulation using python to find\n",
    "the average Net Profit across 1,000 or more scenarios (or trials). Present\n",
    "your analysis.\n"
   ]
  },
  {
   "cell_type": "code",
   "execution_count": null,
   "metadata": {
    "id": "qL8QAZcUa7KA"
   },
   "outputs": [],
   "source": [
    "#Insert your code"
   ]
  }
 ],
 "metadata": {
  "colab": {
   "provenance": []
  },
  "kernelspec": {
   "display_name": "Python 3 (ipykernel)",
   "language": "python",
   "name": "python3"
  },
  "language_info": {
   "codemirror_mode": {
    "name": "ipython",
    "version": 3
   },
   "file_extension": ".py",
   "mimetype": "text/x-python",
   "name": "python",
   "nbconvert_exporter": "python",
   "pygments_lexer": "ipython3",
   "version": "3.9.13"
  }
 },
 "nbformat": 4,
 "nbformat_minor": 1
}
