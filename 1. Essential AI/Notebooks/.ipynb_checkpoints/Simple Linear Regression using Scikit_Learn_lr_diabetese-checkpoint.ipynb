{
 "cells": [
  {
   "cell_type": "code",
   "execution_count": 1,
   "metadata": {},
   "outputs": [],
   "source": [
    "import matplotlib.pyplot as plt\n",
    "import numpy as np\n",
    "import pandas as pd"
   ]
  },
  {
   "cell_type": "code",
   "execution_count": 2,
   "metadata": {},
   "outputs": [
    {
     "name": "stdout",
     "output_type": "stream",
     "text": [
      "Populating the interactive namespace from numpy and matplotlib\n"
     ]
    }
   ],
   "source": [
    "%matplotlib inline\n",
    "%pylab inline"
   ]
  },
  {
   "cell_type": "code",
   "execution_count": 3,
   "metadata": {},
   "outputs": [],
   "source": [
    "diabetes = pd.read_csv(\"lr_diabetes.csv\")"
   ]
  },
  {
   "cell_type": "code",
   "execution_count": 4,
   "metadata": {},
   "outputs": [
    {
     "data": {
      "text/html": [
       "<div>\n",
       "<style scoped>\n",
       "    .dataframe tbody tr th:only-of-type {\n",
       "        vertical-align: middle;\n",
       "    }\n",
       "\n",
       "    .dataframe tbody tr th {\n",
       "        vertical-align: top;\n",
       "    }\n",
       "\n",
       "    .dataframe thead th {\n",
       "        text-align: right;\n",
       "    }\n",
       "</style>\n",
       "<table border=\"1\" class=\"dataframe\">\n",
       "  <thead>\n",
       "    <tr style=\"text-align: right;\">\n",
       "      <th></th>\n",
       "      <th>bmi</th>\n",
       "      <th>Progression</th>\n",
       "    </tr>\n",
       "  </thead>\n",
       "  <tbody>\n",
       "    <tr>\n",
       "      <th>0</th>\n",
       "      <td>0.061696</td>\n",
       "      <td>151.0</td>\n",
       "    </tr>\n",
       "    <tr>\n",
       "      <th>1</th>\n",
       "      <td>-0.051474</td>\n",
       "      <td>75.0</td>\n",
       "    </tr>\n",
       "    <tr>\n",
       "      <th>2</th>\n",
       "      <td>0.044451</td>\n",
       "      <td>141.0</td>\n",
       "    </tr>\n",
       "    <tr>\n",
       "      <th>3</th>\n",
       "      <td>-0.011595</td>\n",
       "      <td>206.0</td>\n",
       "    </tr>\n",
       "    <tr>\n",
       "      <th>4</th>\n",
       "      <td>-0.036385</td>\n",
       "      <td>135.0</td>\n",
       "    </tr>\n",
       "  </tbody>\n",
       "</table>\n",
       "</div>"
      ],
      "text/plain": [
       "        bmi  Progression\n",
       "0  0.061696        151.0\n",
       "1 -0.051474         75.0\n",
       "2  0.044451        141.0\n",
       "3 -0.011595        206.0\n",
       "4 -0.036385        135.0"
      ]
     },
     "execution_count": 4,
     "metadata": {},
     "output_type": "execute_result"
    }
   ],
   "source": [
    "diabetes.head()"
   ]
  },
  {
   "cell_type": "code",
   "execution_count": 5,
   "metadata": {},
   "outputs": [
    {
     "data": {
      "text/plain": [
       "(442, 2)"
      ]
     },
     "execution_count": 5,
     "metadata": {},
     "output_type": "execute_result"
    }
   ],
   "source": [
    "diabetes.shape"
   ]
  },
  {
   "cell_type": "code",
   "execution_count": 6,
   "metadata": {},
   "outputs": [],
   "source": [
    "#X = diabetes.values[:,0].reshape(-1,1)\n",
    "#y = diabetes.values[:,1]\n",
    "\n",
    "X = diabetes.iloc[:, :-1].values\n",
    "y = diabetes.iloc[:, 1].values"
   ]
  },
  {
   "cell_type": "code",
   "execution_count": 7,
   "metadata": {},
   "outputs": [],
   "source": [
    "# Import train_test_split function\n",
    "from sklearn.model_selection import train_test_split\n",
    "\n",
    "# Split dataset into training set and test set\n",
    "# 70% training and 30% test\n",
    "X_train, X_test, y_train, y_test = train_test_split(X, y,\n",
    "                                                    test_size=0.3,\n",
    "                                                    random_state=4) "
   ]
  },
  {
   "cell_type": "code",
   "execution_count": 8,
   "metadata": {},
   "outputs": [],
   "source": [
    "# Create linear regression object\n",
    "from sklearn import linear_model\n",
    "\n",
    "regr = linear_model.LinearRegression()"
   ]
  },
  {
   "cell_type": "code",
   "execution_count": 9,
   "metadata": {},
   "outputs": [
    {
     "data": {
      "text/plain": [
       "LinearRegression()"
      ]
     },
     "execution_count": 9,
     "metadata": {},
     "output_type": "execute_result"
    }
   ],
   "source": [
    "# Train the model using the training sets\n",
    "regr.fit(X_train, y_train)"
   ]
  },
  {
   "cell_type": "code",
   "execution_count": 10,
   "metadata": {},
   "outputs": [],
   "source": [
    "# Make predictions using the testing set\n",
    "y_pred = regr.predict(X_test)"
   ]
  },
  {
   "cell_type": "code",
   "execution_count": 11,
   "metadata": {
    "tags": []
   },
   "outputs": [
    {
     "data": {
      "text/plain": [
       "array([108.31997538, 168.13326654, 160.41542252,  80.3427908 ,\n",
       "       186.46314609, 177.78057156, 125.68512443, 115.0730889 ,\n",
       "        79.3780603 , 111.21416689, 122.79093292, 190.3220681 ,\n",
       "       163.30961403, 149.80338699, 127.61458543, 151.73284799,\n",
       "       183.56895458, 131.47350744, 129.54404644, 149.80338699,\n",
       "       216.36979167, 146.90919548,  87.09590432, 181.63949357,\n",
       "        98.67267035,  87.09590432, 175.85111056, 130.50877694,\n",
       "       104.46105337, 110.24943638, 222.15817468,  99.63740086,\n",
       "       296.44242338, 205.75775614, 102.53159236, 156.55650051,\n",
       "       141.12081247, 189.3573376 , 136.29715995, 155.59177   ,\n",
       "       179.71003257, 163.30961403, 195.14572061,  84.20171281,\n",
       "       183.56895458, 109.28470588, 122.79093292, 117.0025499 ,\n",
       "       200.93410363, 179.71003257, 129.54404644, 122.79093292,\n",
       "       146.90919548, 194.18099011, 117.0025499 , 172.95691905,\n",
       "       120.86147191,  81.30752131, 179.71003257, 254.95901177,\n",
       "       129.54404644, 118.93201091, 168.13326654, 252.06482026,\n",
       "       107.35524488, 174.88638006, 130.50877694, 151.73284799,\n",
       "       184.53368508, 156.55650051, 145.94446498, 184.53368508,\n",
       "       150.76811749, 200.93410363, 117.9672804 , 167.16853604,\n",
       "       125.68512443, 168.13326654, 141.12081247, 149.80338699,\n",
       "       156.55650051, 173.92164955, 124.72039392, 148.83865649,\n",
       "       145.94446498, 185.49841558, 193.21625961, 131.47350744,\n",
       "       117.9672804 , 201.89883413, 121.82620241,  95.77847885,\n",
       "       221.19344418, 156.55650051, 122.79093292,  89.99009583,\n",
       "       123.75566342, 120.86147191, 100.60213136, 113.14362789,\n",
       "       173.92164955, 179.71003257, 144.97973448, 116.0378194 ,\n",
       "       110.24943638, 165.23907503, 161.38015302, 121.82620241,\n",
       "       177.78057156,  89.02536533, 170.06272754, 143.05027347,\n",
       "       123.75566342, 120.86147191,  89.99009583, 105.42578387,\n",
       "       191.2867986 , 158.48596151, 161.38015302, 143.05027347,\n",
       "       125.68512443, 171.02745805, 128.57931593, 200.93410363,\n",
       "       131.47350744, 161.38015302, 106.39051437, 217.33452217,\n",
       "       138.22662096, 141.12081247, 117.9672804 , 206.72248664,\n",
       "       117.9672804 ])"
      ]
     },
     "execution_count": 11,
     "metadata": {},
     "output_type": "execute_result"
    }
   ],
   "source": [
    "y_pred"
   ]
  },
  {
   "cell_type": "code",
   "execution_count": 12,
   "metadata": {},
   "outputs": [
    {
     "name": "stdout",
     "output_type": "stream",
     "text": [
      "Coefficients: \n",
      " [895.08229306]\n",
      "Intercept: \n",
      " 152.46403514027705\n"
     ]
    }
   ],
   "source": [
    "# The coefficients\n",
    "print('Coefficients: \\n', regr.coef_)\n",
    "#Intercept\n",
    "print('Intercept: \\n', regr.intercept_)\n"
   ]
  },
  {
   "cell_type": "code",
   "execution_count": 13,
   "metadata": {},
   "outputs": [
    {
     "name": "stdout",
     "output_type": "stream",
     "text": [
      "Mean squared error: 3114.13\n"
     ]
    }
   ],
   "source": [
    "# The mean squared error : \n",
    "#How the observed values vary from the predicted values :  Avg(Square(y_test[i]-y_pred[i]))\n",
    "from sklearn.metrics import mean_squared_error, r2_score\n",
    "\n",
    "print(\"Mean squared error: %.2f\"\n",
    "      % mean_squared_error(y_test, y_pred))"
   ]
  },
  {
   "cell_type": "code",
   "execution_count": 14,
   "metadata": {},
   "outputs": [
    {
     "name": "stdout",
     "output_type": "stream",
     "text": [
      "Variance score: 0.42\n"
     ]
    }
   ],
   "source": [
    "# Explained variance score: value is between 0 and 1 and 1 is for perfect prediction : \n",
    "# the proportion of the variance in the dependent variable(target) \n",
    "# that is predictable from the independent variable(s) (features)\n",
    "\n",
    "print('Variance score: %.2f' % r2_score(y_test, y_pred))"
   ]
  },
  {
   "cell_type": "code",
   "execution_count": 15,
   "metadata": {},
   "outputs": [
    {
     "data": {
      "image/png": "[encoded data removed]",
      "text/plain": [
       "<Figure size 432x288 with 1 Axes>"
      ]
     },
     "metadata": {},
     "output_type": "display_data"
    }
   ],
   "source": [
    "# Plot outputs\n",
    "plt.scatter(X_test, y_test,  color='black')\n",
    "plt.plot(X_test, y_pred, color='blue', linewidth=3)\n",
    "\n",
    "plt.xticks(())\n",
    "plt.yticks(())\n",
    "\n",
    "plt.show()"
   ]
  },
  {
   "cell_type": "code",
   "execution_count": 16,
   "metadata": {},
   "outputs": [],
   "source": [
    "# predict the diabetes progression For a BMI of 0.05\n"
   ]
  },
  {
   "cell_type": "code",
   "execution_count": 17,
   "metadata": {},
   "outputs": [
    {
     "data": {
      "text/plain": [
       "array([197.21814979])"
      ]
     },
     "execution_count": 17,
     "metadata": {},
     "output_type": "execute_result"
    }
   ],
   "source": [
    "regr.predict([[0.05]])"
   ]
  },
  {
   "cell_type": "code",
   "execution_count": 18,
   "metadata": {},
   "outputs": [
    {
     "data": {
      "text/plain": [
       "3114.13"
      ]
     },
     "execution_count": 18,
     "metadata": {},
     "output_type": "execute_result"
    }
   ],
   "source": [
    "'''\n",
    "Understanding mean squared error\n",
    "'''\n",
    "round(np.mean((y_test-y_pred)**2),2)"
   ]
  },
  {
   "cell_type": "code",
   "execution_count": 19,
   "metadata": {},
   "outputs": [
    {
     "name": "stdout",
     "output_type": "stream",
     "text": [
      "Sum of Squared error 414179.09654398804\n",
      "Sum of residuals 711930.992481203\n",
      "varience score is 0.42\n"
     ]
    }
   ],
   "source": [
    "'''\n",
    "Varience sore of r2_score = 1-(g/y)\n",
    "\n",
    "g : Sum of Squared distance or difference between the observed \n",
    "    values and the predicted ones. \n",
    "    g = Sum((y_test[i] – y_pred[i]) **2)\n",
    "y : Sum of the Squared distance between observed value \n",
    "    y_test and the average of observed values mean(y_test) : \n",
    "    y = Sum((y_test[i] – mean[y_test]) **2)\n",
    "x\n",
    "g. is called as residual sum of square\n",
    "y is called as Total variation/SST/sum of squared error from mean\n",
    "\n",
    "'''\n",
    "g = np.sum((y_test-y_pred)**2)\n",
    "y = np.sum((y_test-np.mean(y_test))**2)\n",
    "print('Sum of Squared error',g)\n",
    "print('Sum of residuals',y)\n",
    "print('varience score is', round(1-(g/y),2))"
   ]
  },
  {
   "cell_type": "code",
   "execution_count": null,
   "metadata": {},
   "outputs": [],
   "source": []
  },
  {
   "cell_type": "code",
   "execution_count": null,
   "metadata": {},
   "outputs": [],
   "source": []
  }
 ],
 "metadata": {
  "kernelspec": {
   "display_name": "Python 3 (ipykernel)",
   "language": "python",
   "name": "python3"
  },
  "language_info": {
   "codemirror_mode": {
    "name": "ipython",
    "version": 3
   },
   "file_extension": ".py",
   "mimetype": "text/x-python",
   "name": "python",
   "nbconvert_exporter": "python",
   "pygments_lexer": "ipython3",
   "version": "3.9.13"
  }
 },
 "nbformat": 4,
 "nbformat_minor": 4
}
