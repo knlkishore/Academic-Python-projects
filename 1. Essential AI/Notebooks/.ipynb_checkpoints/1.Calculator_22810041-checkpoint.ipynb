{
 "cells": [
  {
   "cell_type": "markdown",
   "id": "1d53ea53",
   "metadata": {},
   "source": [
    "Kunal Kishore  ||  22810041"
   ]
  },
  {
   "cell_type": "code",
   "execution_count": 1,
   "id": "1df268c7",
   "metadata": {},
   "outputs": [
    {
     "name": "stdout",
     "output_type": "stream",
     "text": [
      "\n",
      "Welcome to the Basic Calculator!\n",
      "Choose the operation:\n",
      "1. Addition\n",
      "2. Subtraction\n",
      "3. Multiplication\n",
      "4. Division\n",
      "Enter the number corresponding to your choice: 4\n",
      "Enter the first number: 10\n",
      "Enter the second number: 0\n",
      "Error: Division by zero\n",
      "Enter '1' to use the calculator again or any other value to exit: 9\n"
     ]
    }
   ],
   "source": [
    "while True:\n",
    "    print(\"\\nWelcome to the Basic Calculator!\")\n",
    "    print(\"Choose the operation:\")\n",
    "    print(\"1. Addition\")\n",
    "    print(\"2. Subtraction\")\n",
    "    print(\"3. Multiplication\")\n",
    "    print(\"4. Division\")\n",
    "\n",
    "    \n",
    "    # Checking if input is valid\n",
    "    ch = input(\"Enter the number corresponding to your choice: \")\n",
    "    if ch not in [\"1\", \"2\", \"3\", \"4\"]:\n",
    "        print(\"Invalid choice. Please enter a valid number (1, 2, 3, or 4).\\n\")\n",
    "        continue\n",
    "    \n",
    "    \n",
    "    # Getting input 1\n",
    "    x = input(\"Enter the first number: \")\n",
    "    \n",
    "    if x.isdigit():\n",
    "        x = int(x)\n",
    "    else:\n",
    "        try:\n",
    "            x = float(x)\n",
    "        except :\n",
    "            print(\"Invalid input for the first number. Please enter a valid number.\\n\")\n",
    "            continue\n",
    "            \n",
    "    # Getting input 2            \n",
    "    y = input(\"Enter the second number: \")\n",
    "    if y.isdigit():\n",
    "        y = int(y)\n",
    "    else:\n",
    "        try:\n",
    "            y = float(y)\n",
    "        except :\n",
    "            print(\"Invalid input for the second number. Please enter a valid number.\")\n",
    "            continue\n",
    "    \n",
    "    \n",
    "    \n",
    "    # Operation and output\n",
    "    if ch == \"1\":\n",
    "        print(f\"{x} + {y} = {x + y}\")\n",
    "    elif ch == \"2\":\n",
    "        print(f\"{x} - {y} = {x - y}\")\n",
    "    elif ch == \"3\":\n",
    "        print(f\"{x} * {y} = {x * y}\")\n",
    "    elif ch == \"4\":\n",
    "        if y == 0:\n",
    "            print(\"Error: Division by zero\")\n",
    "        else:\n",
    "            print(f\"{x} / {y} = {x / y}\")\n",
    "    else:\n",
    "        print(\"Invalid operation choice.\")\n",
    "    \n",
    "    \n",
    "    repeat = input(\"Enter '1' to use the calculator again or any other value to exit: \")\n",
    "    if repeat != \"1\":\n",
    "        break\n",
    "\n",
    "    \n"
   ]
  },
  {
   "cell_type": "code",
   "execution_count": null,
   "id": "29257c17",
   "metadata": {},
   "outputs": [],
   "source": []
  },
  {
   "cell_type": "code",
   "execution_count": null,
   "id": "7ffd06fe",
   "metadata": {},
   "outputs": [],
   "source": []
  },
  {
   "cell_type": "code",
   "execution_count": null,
   "id": "52e3b856",
   "metadata": {},
   "outputs": [],
   "source": []
  },
  {
   "cell_type": "code",
   "execution_count": null,
   "id": "44efb17e",
   "metadata": {},
   "outputs": [],
   "source": []
  },
  {
   "cell_type": "code",
   "execution_count": null,
   "id": "fca87fd1",
   "metadata": {},
   "outputs": [],
   "source": []
  }
 ],
 "metadata": {
  "kernelspec": {
   "display_name": "Python 3 (ipykernel)",
   "language": "python",
   "name": "python3"
  },
  "language_info": {
   "codemirror_mode": {
    "name": "ipython",
    "version": 3
   },
   "file_extension": ".py",
   "mimetype": "text/x-python",
   "name": "python",
   "nbconvert_exporter": "python",
   "pygments_lexer": "ipython3",
   "version": "3.9.13"
  }
 },
 "nbformat": 4,
 "nbformat_minor": 5
}
