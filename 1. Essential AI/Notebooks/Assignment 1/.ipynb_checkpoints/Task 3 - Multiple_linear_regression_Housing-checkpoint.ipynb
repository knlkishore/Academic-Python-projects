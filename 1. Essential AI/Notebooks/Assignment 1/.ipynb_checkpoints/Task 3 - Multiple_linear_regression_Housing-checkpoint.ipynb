{
 "cells": [
  {
   "cell_type": "code",
   "execution_count": 1,
   "id": "7690ecd8",
   "metadata": {},
   "outputs": [],
   "source": [
    "import pandas as pd\n",
    "import numpy as np\n",
    "import matplotlib.pyplot as plt\n",
    "%matplotlib inline"
   ]
  },
  {
   "cell_type": "code",
   "execution_count": 2,
   "id": "4b7778f0",
   "metadata": {},
   "outputs": [
    {
     "data": {
      "text/plain": [
       "(21545, 8)"
      ]
     },
     "execution_count": 2,
     "metadata": {},
     "output_type": "execute_result"
    }
   ],
   "source": [
    "Housing = pd.read_csv(\"kc_house_data1_cleaned.csv\")\n",
    "Housing.shape"
   ]
  },
  {
   "cell_type": "code",
   "execution_count": 3,
   "id": "43c46b3c",
   "metadata": {},
   "outputs": [
    {
     "data": {
      "text/html": [
       "<div>\n",
       "<style scoped>\n",
       "    .dataframe tbody tr th:only-of-type {\n",
       "        vertical-align: middle;\n",
       "    }\n",
       "\n",
       "    .dataframe tbody tr th {\n",
       "        vertical-align: top;\n",
       "    }\n",
       "\n",
       "    .dataframe thead th {\n",
       "        text-align: right;\n",
       "    }\n",
       "</style>\n",
       "<table border=\"1\" class=\"dataframe\">\n",
       "  <thead>\n",
       "    <tr style=\"text-align: right;\">\n",
       "      <th></th>\n",
       "      <th>id</th>\n",
       "      <th>date</th>\n",
       "      <th>bedrooms</th>\n",
       "      <th>bathrooms</th>\n",
       "      <th>sqft_living</th>\n",
       "      <th>sqft_above</th>\n",
       "      <th>grade</th>\n",
       "      <th>price</th>\n",
       "    </tr>\n",
       "  </thead>\n",
       "  <tbody>\n",
       "    <tr>\n",
       "      <th>0</th>\n",
       "      <td>7129300520</td>\n",
       "      <td>20141013T000000</td>\n",
       "      <td>3</td>\n",
       "      <td>1.00</td>\n",
       "      <td>1180</td>\n",
       "      <td>1180</td>\n",
       "      <td>7</td>\n",
       "      <td>221900.0</td>\n",
       "    </tr>\n",
       "    <tr>\n",
       "      <th>1</th>\n",
       "      <td>6414100192</td>\n",
       "      <td>20141209T000000</td>\n",
       "      <td>3</td>\n",
       "      <td>2.25</td>\n",
       "      <td>2570</td>\n",
       "      <td>2170</td>\n",
       "      <td>7</td>\n",
       "      <td>538000.0</td>\n",
       "    </tr>\n",
       "    <tr>\n",
       "      <th>2</th>\n",
       "      <td>5631500400</td>\n",
       "      <td>20150225T000000</td>\n",
       "      <td>2</td>\n",
       "      <td>1.00</td>\n",
       "      <td>770</td>\n",
       "      <td>770</td>\n",
       "      <td>6</td>\n",
       "      <td>180000.0</td>\n",
       "    </tr>\n",
       "    <tr>\n",
       "      <th>3</th>\n",
       "      <td>2487200875</td>\n",
       "      <td>20141209T000000</td>\n",
       "      <td>4</td>\n",
       "      <td>3.00</td>\n",
       "      <td>1960</td>\n",
       "      <td>1050</td>\n",
       "      <td>7</td>\n",
       "      <td>604000.0</td>\n",
       "    </tr>\n",
       "    <tr>\n",
       "      <th>4</th>\n",
       "      <td>1954400510</td>\n",
       "      <td>20150218T000000</td>\n",
       "      <td>3</td>\n",
       "      <td>2.00</td>\n",
       "      <td>1680</td>\n",
       "      <td>1680</td>\n",
       "      <td>8</td>\n",
       "      <td>510000.0</td>\n",
       "    </tr>\n",
       "  </tbody>\n",
       "</table>\n",
       "</div>"
      ],
      "text/plain": [
       "           id             date  bedrooms  bathrooms  sqft_living  sqft_above  \\\n",
       "0  7129300520  20141013T000000         3       1.00         1180        1180   \n",
       "1  6414100192  20141209T000000         3       2.25         2570        2170   \n",
       "2  5631500400  20150225T000000         2       1.00          770         770   \n",
       "3  2487200875  20141209T000000         4       3.00         1960        1050   \n",
       "4  1954400510  20150218T000000         3       2.00         1680        1680   \n",
       "\n",
       "   grade     price  \n",
       "0      7  221900.0  \n",
       "1      7  538000.0  \n",
       "2      6  180000.0  \n",
       "3      7  604000.0  \n",
       "4      8  510000.0  "
      ]
     },
     "execution_count": 3,
     "metadata": {},
     "output_type": "execute_result"
    }
   ],
   "source": [
    "Housing.head()"
   ]
  },
  {
   "cell_type": "code",
   "execution_count": 4,
   "id": "f0a0fefa",
   "metadata": {},
   "outputs": [
    {
     "name": "stdout",
     "output_type": "stream",
     "text": [
      "<class 'pandas.core.frame.DataFrame'>\n",
      "RangeIndex: 21545 entries, 0 to 21544\n",
      "Data columns (total 8 columns):\n",
      " #   Column       Non-Null Count  Dtype  \n",
      "---  ------       --------------  -----  \n",
      " 0   id           21545 non-null  int64  \n",
      " 1   date         21545 non-null  object \n",
      " 2   bedrooms     21545 non-null  int64  \n",
      " 3   bathrooms    21545 non-null  float64\n",
      " 4   sqft_living  21545 non-null  int64  \n",
      " 5   sqft_above   21545 non-null  int64  \n",
      " 6   grade        21545 non-null  int64  \n",
      " 7   price        21545 non-null  float64\n",
      "dtypes: float64(2), int64(5), object(1)\n",
      "memory usage: 1.3+ MB\n"
     ]
    }
   ],
   "source": [
    "Housing.info()"
   ]
  },
  {
   "cell_type": "code",
   "execution_count": 5,
   "id": "c78a99da",
   "metadata": {},
   "outputs": [],
   "source": [
    "# Remove 'T' and convert to integer\n",
    "Housing['date'] = Housing['date'].str.replace('T', '').astype(np.int64)\n"
   ]
  },
  {
   "cell_type": "code",
   "execution_count": 6,
   "id": "a96688bf",
   "metadata": {},
   "outputs": [],
   "source": [
    "#preparing the data\n",
    "X = Housing.drop('price', axis=1)\n",
    "y = Housing['price']"
   ]
  },
  {
   "cell_type": "code",
   "execution_count": 7,
   "id": "7dfa48e2",
   "metadata": {},
   "outputs": [
    {
     "name": "stdout",
     "output_type": "stream",
     "text": [
      "               id            date  bedrooms  bathrooms  sqft_living  \\\n",
      "0      7129300520  20141013000000         3       1.00         1180   \n",
      "1      6414100192  20141209000000         3       2.25         2570   \n",
      "2      5631500400  20150225000000         2       1.00          770   \n",
      "3      2487200875  20141209000000         4       3.00         1960   \n",
      "4      1954400510  20150218000000         3       2.00         1680   \n",
      "...           ...             ...       ...        ...          ...   \n",
      "21540   263000018  20140521000000         3       2.50         1530   \n",
      "21541  6600060120  20150223000000         4       2.50         2310   \n",
      "21542  1523300141  20140623000000         2       0.75         1020   \n",
      "21543   291310100  20150116000000         3       2.50         1600   \n",
      "21544  1523300157  20141015000000         2       0.75         1020   \n",
      "\n",
      "       sqft_above  grade  \n",
      "0            1180      7  \n",
      "1            2170      7  \n",
      "2             770      6  \n",
      "3            1050      7  \n",
      "4            1680      8  \n",
      "...           ...    ...  \n",
      "21540        1530      8  \n",
      "21541        2310      8  \n",
      "21542        1020      7  \n",
      "21543        1600      8  \n",
      "21544        1020      7  \n",
      "\n",
      "[21545 rows x 7 columns]\n",
      "0        221900.0\n",
      "1        538000.0\n",
      "2        180000.0\n",
      "3        604000.0\n",
      "4        510000.0\n",
      "           ...   \n",
      "21540    360000.0\n",
      "21541    400000.0\n",
      "21542    402101.0\n",
      "21543    400000.0\n",
      "21544    325000.0\n",
      "Name: price, Length: 21545, dtype: float64\n"
     ]
    }
   ],
   "source": [
    "print(X)\n",
    "print(y)"
   ]
  },
  {
   "cell_type": "code",
   "execution_count": 8,
   "id": "11ba64be",
   "metadata": {},
   "outputs": [],
   "source": [
    "from sklearn.model_selection import train_test_split\n",
    "X_train, X_test, y_train, y_test = train_test_split(X, y, test_size=0.2, random_state=0)"
   ]
  },
  {
   "cell_type": "code",
   "execution_count": 9,
   "id": "c911ab9b",
   "metadata": {},
   "outputs": [
    {
     "data": {
      "text/plain": [
       "LinearRegression()"
      ]
     },
     "execution_count": 9,
     "metadata": {},
     "output_type": "execute_result"
    }
   ],
   "source": [
    "from sklearn.linear_model import LinearRegression\n",
    "regressor = LinearRegression()\n",
    "regressor.fit(X_train, y_train)"
   ]
  },
  {
   "cell_type": "code",
   "execution_count": 10,
   "id": "213fa6c0",
   "metadata": {},
   "outputs": [
    {
     "name": "stdout",
     "output_type": "stream",
     "text": [
      "-45204977.843902044\n",
      "[-2.37598902e-06  2.21904607e-06 -4.12050553e+04 -3.09868673e+04\n",
      "  2.63718937e+02 -7.91570471e+01  1.11277799e+05]\n"
     ]
    }
   ],
   "source": [
    "#printing parameters:\n",
    "print(regressor.intercept_)\n",
    "print(regressor.coef_)"
   ]
  },
  {
   "cell_type": "code",
   "execution_count": 11,
   "id": "d6e14b87",
   "metadata": {},
   "outputs": [],
   "source": [
    "#making predictions:\n",
    "y_pred = regressor.predict(X_test)"
   ]
  },
  {
   "cell_type": "code",
   "execution_count": 12,
   "id": "ee671d57",
   "metadata": {},
   "outputs": [
    {
     "data": {
      "text/html": [
       "<div>\n",
       "<style scoped>\n",
       "    .dataframe tbody tr th:only-of-type {\n",
       "        vertical-align: middle;\n",
       "    }\n",
       "\n",
       "    .dataframe tbody tr th {\n",
       "        vertical-align: top;\n",
       "    }\n",
       "\n",
       "    .dataframe thead th {\n",
       "        text-align: right;\n",
       "    }\n",
       "</style>\n",
       "<table border=\"1\" class=\"dataframe\">\n",
       "  <thead>\n",
       "    <tr style=\"text-align: right;\">\n",
       "      <th></th>\n",
       "      <th>Actual</th>\n",
       "      <th>Predicted</th>\n",
       "    </tr>\n",
       "  </thead>\n",
       "  <tbody>\n",
       "    <tr>\n",
       "      <th>1471</th>\n",
       "      <td>400000.0</td>\n",
       "      <td>3.530898e+05</td>\n",
       "    </tr>\n",
       "    <tr>\n",
       "      <th>20742</th>\n",
       "      <td>419900.0</td>\n",
       "      <td>6.476277e+05</td>\n",
       "    </tr>\n",
       "    <tr>\n",
       "      <th>6721</th>\n",
       "      <td>333000.0</td>\n",
       "      <td>4.420357e+05</td>\n",
       "    </tr>\n",
       "    <tr>\n",
       "      <th>21451</th>\n",
       "      <td>420000.0</td>\n",
       "      <td>5.052222e+05</td>\n",
       "    </tr>\n",
       "    <tr>\n",
       "      <th>7638</th>\n",
       "      <td>1270000.0</td>\n",
       "      <td>1.036172e+06</td>\n",
       "    </tr>\n",
       "    <tr>\n",
       "      <th>...</th>\n",
       "      <td>...</td>\n",
       "      <td>...</td>\n",
       "    </tr>\n",
       "    <tr>\n",
       "      <th>19536</th>\n",
       "      <td>257000.0</td>\n",
       "      <td>3.469947e+05</td>\n",
       "    </tr>\n",
       "    <tr>\n",
       "      <th>20480</th>\n",
       "      <td>312500.0</td>\n",
       "      <td>4.478919e+05</td>\n",
       "    </tr>\n",
       "    <tr>\n",
       "      <th>9283</th>\n",
       "      <td>790000.0</td>\n",
       "      <td>8.018787e+05</td>\n",
       "    </tr>\n",
       "    <tr>\n",
       "      <th>19426</th>\n",
       "      <td>440000.0</td>\n",
       "      <td>6.614351e+05</td>\n",
       "    </tr>\n",
       "    <tr>\n",
       "      <th>16977</th>\n",
       "      <td>425000.0</td>\n",
       "      <td>4.843719e+05</td>\n",
       "    </tr>\n",
       "  </tbody>\n",
       "</table>\n",
       "<p>4309 rows × 2 columns</p>\n",
       "</div>"
      ],
      "text/plain": [
       "          Actual     Predicted\n",
       "1471    400000.0  3.530898e+05\n",
       "20742   419900.0  6.476277e+05\n",
       "6721    333000.0  4.420357e+05\n",
       "21451   420000.0  5.052222e+05\n",
       "7638   1270000.0  1.036172e+06\n",
       "...          ...           ...\n",
       "19536   257000.0  3.469947e+05\n",
       "20480   312500.0  4.478919e+05\n",
       "9283    790000.0  8.018787e+05\n",
       "19426   440000.0  6.614351e+05\n",
       "16977   425000.0  4.843719e+05\n",
       "\n",
       "[4309 rows x 2 columns]"
      ]
     },
     "execution_count": 12,
     "metadata": {},
     "output_type": "execute_result"
    }
   ],
   "source": [
    "df = pd.DataFrame({'Actual': y_test, 'Predicted': y_pred})\n",
    "df"
   ]
  },
  {
   "cell_type": "code",
   "execution_count": 13,
   "id": "56fad19a",
   "metadata": {},
   "outputs": [
    {
     "name": "stdout",
     "output_type": "stream",
     "text": [
      "For testing dataset\n",
      "Mean squared error: 50609907022.49\n",
      "R^2 Score: 0.56\n"
     ]
    }
   ],
   "source": [
    "# The coefficients\n",
    "from sklearn.metrics import mean_squared_error, r2_score\n",
    "# The mean squared error\n",
    "print(\"For testing dataset\")\n",
    "print('Mean squared error: %.2f'\n",
    "      % mean_squared_error(y_test, y_pred))\n",
    "# The coefficient of determination: 1 is perfect prediction\n",
    "print('R^2 Score: %.2f'\n",
    "      % r2_score(y_test, y_pred))"
   ]
  },
  {
   "cell_type": "code",
   "execution_count": 14,
   "id": "09229ff3",
   "metadata": {},
   "outputs": [
    {
     "name": "stdout",
     "output_type": "stream",
     "text": [
      "For training dataset\n",
      "Mean squared error: 55069546605.10\n",
      "R^2 Score: 0.54\n"
     ]
    }
   ],
   "source": [
    "print(\"For training dataset\")\n",
    "\n",
    "y_pred1 = regressor.predict(X_train)\n",
    "\n",
    "print('Mean squared error: %.2f'\n",
    "      % mean_squared_error(y_train, y_pred1))\n",
    "# The coefficient of determination: 1 is perfect prediction\n",
    "print('R^2 Score: %.2f'\n",
    "      % r2_score(y_train, y_pred1))"
   ]
  },
  {
   "cell_type": "code",
   "execution_count": 15,
   "id": "cb05f4fc",
   "metadata": {},
   "outputs": [
    {
     "data": {
      "image/png": "[encoded data removed]",
      "text/plain": [
       "<Figure size 640x480 with 1 Axes>"
      ]
     },
     "metadata": {},
     "output_type": "display_data"
    }
   ],
   "source": [
    "#plots\n",
    "# Plot outputs\n",
    "plt.scatter(X_test['sqft_living'], y_test,  color='black')\n",
    "plt.scatter(X_test['sqft_living'], y_pred, color='blue')\n",
    "\n",
    "plt.xticks(())\n",
    "plt.yticks(())\n",
    "\n",
    "plt.show()"
   ]
  },
  {
   "cell_type": "code",
   "execution_count": null,
   "id": "bcfaf21e",
   "metadata": {},
   "outputs": [],
   "source": []
  }
 ],
 "metadata": {
  "kernelspec": {
   "display_name": "Python 3 (ipykernel)",
   "language": "python",
   "name": "python3"
  },
  "language_info": {
   "codemirror_mode": {
    "name": "ipython",
    "version": 3
   },
   "file_extension": ".py",
   "mimetype": "text/x-python",
   "name": "python",
   "nbconvert_exporter": "python",
   "pygments_lexer": "ipython3",
   "version": "3.9.13"
  }
 },
 "nbformat": 4,
 "nbformat_minor": 5
}
