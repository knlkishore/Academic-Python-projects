{
 "cells": [
  {
   "cell_type": "code",
   "execution_count": null,
   "metadata": {
    "id": "ygZpoyXlrVmH"
   },
   "outputs": [],
   "source": [
    "import pandas as pd\n",
    "import numpy as np\n",
    "import matplotlib.pyplot as plt\n",
    "%matplotlib inline"
   ]
  },
  {
   "cell_type": "code",
   "execution_count": null,
   "metadata": {
    "colab": {
     "base_uri": "https://localhost:8080/",
     "height": 831
    },
    "id": "JmQfbM85sEUr",
    "outputId": "44676807-2c8f-410a-ea2f-782d0d61d93b"
   },
   "outputs": [],
   "source": [
    "Score = pd.read_csv(\"student_scores.csv\")\n",
    "Score.shape\n",
    "Score"
   ]
  },
  {
   "cell_type": "code",
   "execution_count": null,
   "metadata": {
    "colab": {
     "base_uri": "https://localhost:8080/",
     "height": 299
    },
    "id": "m9Gtm2XEsU5c",
    "outputId": "27b61a54-4bbc-4602-9cc3-bb6acf147283"
   },
   "outputs": [],
   "source": [
    "Score.describe()"
   ]
  },
  {
   "cell_type": "code",
   "execution_count": null,
   "metadata": {
    "colab": {
     "base_uri": "https://localhost:8080/",
     "height": 295
    },
    "id": "bRGuk3HLsfGJ",
    "outputId": "90347206-dab5-49d8-98cd-84afce4e55b1"
   },
   "outputs": [],
   "source": [
    "#Plotting the data\n",
    "Score.plot(x='Hours', y='Scores', style='o')\n",
    "plt.title('Hours vs Percentage')\n",
    "plt.xlabel('Hours Studied')\n",
    "plt.ylabel('Percentage Score')\n",
    "plt.show()"
   ]
  },
  {
   "cell_type": "code",
   "execution_count": null,
   "metadata": {
    "colab": {
     "base_uri": "https://localhost:8080/"
    },
    "id": "VDfup_pDsmTO",
    "outputId": "b56fd26d-9bc9-4719-da3e-4423379892ff"
   },
   "outputs": [],
   "source": [
    "#preparing the data\n",
    "X = Score.iloc[:, :-1].values\n",
    "y = Score.iloc[:, 1].values\n",
    "print(X,y)"
   ]
  },
  {
   "cell_type": "code",
   "execution_count": null,
   "metadata": {
    "colab": {
     "base_uri": "https://localhost:8080/"
    },
    "id": "I6c7r9ijtH17",
    "outputId": "8e2e1735-ef18-4da7-bb0f-b6f7d53971bd"
   },
   "outputs": [],
   "source": [
    "from sklearn.linear_model import LinearRegression\n",
    "reg = LinearRegression()\n",
    "reg.fit(X, y)"
   ]
  },
  {
   "cell_type": "code",
   "execution_count": null,
   "metadata": {
    "colab": {
     "base_uri": "https://localhost:8080/"
    },
    "id": "ZKs1DpwgtQee",
    "outputId": "9fe8ea41-acd7-4f20-f6a5-e9af71bbe461"
   },
   "outputs": [],
   "source": [
    "#printing parameters:\n",
    "print(reg.intercept_)\n",
    "print(reg.coef_)"
   ]
  },
  {
   "cell_type": "code",
   "execution_count": null,
   "metadata": {
    "id": "PYVawqWitgq6"
   },
   "outputs": [],
   "source": [
    "#making predictions:\n",
    "y_pred = reg.predict(X)"
   ]
  },
  {
   "cell_type": "code",
   "execution_count": null,
   "metadata": {
    "colab": {
     "base_uri": "https://localhost:8080/",
     "height": 831
    },
    "id": "j5tbWko4tnvt",
    "outputId": "83c74f0a-b9ae-4858-9629-420bbe5035a3"
   },
   "outputs": [],
   "source": [
    "df = pd.DataFrame({'Actual': y, 'Predicted': y_pred})\n",
    "df"
   ]
  },
  {
   "cell_type": "code",
   "execution_count": null,
   "metadata": {
    "colab": {
     "base_uri": "https://localhost:8080/"
    },
    "id": "xP9XsrZFtvBv",
    "outputId": "a9df426a-3b32-467a-aaba-f40c8d082a0b"
   },
   "outputs": [],
   "source": [
    "# The coefficients\n",
    "from sklearn.metrics import mean_squared_error, r2_score\n",
    "# The mean squared error\n",
    "print('Mean squared error: %.2f'\n",
    "      % mean_squared_error(y, y_pred))\n",
    "# The coefficient of determination: 1 is perfect prediction\n",
    "print('R^2 Score: %.2f'\n",
    "      % r2_score(y, y_pred))"
   ]
  },
  {
   "cell_type": "code",
   "execution_count": null,
   "metadata": {
    "colab": {
     "base_uri": "https://localhost:8080/",
     "height": 252
    },
    "id": "soxU8lzcuT8c",
    "outputId": "c65491ea-1842-41f6-9515-c92461621638"
   },
   "outputs": [],
   "source": [
    "# Plot outputs\n",
    "plt.scatter(X, y,  color='black')\n",
    "plt.plot(X, y_pred, color='blue', linewidth=2)\n",
    "\n",
    "\n",
    "plt.xticks(())\n",
    "plt.yticks(())\n",
    "\n",
    "plt.show()"
   ]
  },
  {
   "cell_type": "code",
   "execution_count": null,
   "metadata": {},
   "outputs": [],
   "source": []
  }
 ],
 "metadata": {
  "colab": {
   "collapsed_sections": [],
   "name": "Linear regression-00.ipynb",
   "provenance": []
  },
  "kernelspec": {
   "display_name": "Python 3 (ipykernel)",
   "language": "python",
   "name": "python3"
  },
  "language_info": {
   "codemirror_mode": {
    "name": "ipython",
    "version": 3
   },
   "file_extension": ".py",
   "mimetype": "text/x-python",
   "name": "python",
   "nbconvert_exporter": "python",
   "pygments_lexer": "ipython3",
   "version": "3.8.10"
  }
 },
 "nbformat": 4,
 "nbformat_minor": 4
}
