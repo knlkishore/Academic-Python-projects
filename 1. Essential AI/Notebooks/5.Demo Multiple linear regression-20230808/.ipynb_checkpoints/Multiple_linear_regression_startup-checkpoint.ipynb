{
 "cells": [
  {
   "cell_type": "code",
   "execution_count": 1,
   "metadata": {
    "id": "3XRpG5AIul_B"
   },
   "outputs": [],
   "source": [
    "import pandas as pd\n",
    "import numpy as np\n",
    "import matplotlib.pyplot as plt\n",
    "%matplotlib inline"
   ]
  },
  {
   "cell_type": "markdown",
   "metadata": {
    "id": "2_PT27zDbojT"
   },
   "source": [
    "Dataset:\n",
    "It is having investment and profit of 50 Starts up at USA."
   ]
  },
  {
   "cell_type": "code",
   "execution_count": 2,
   "metadata": {
    "colab": {
     "base_uri": "https://localhost:8080/",
     "height": 205
    },
    "id": "tZZtPl-bb6mr",
    "outputId": "481334df-8dbb-4bd4-9990-93e30d0d0fbf"
   },
   "outputs": [
    {
     "data": {
      "text/html": [
       "<div>\n",
       "<style scoped>\n",
       "    .dataframe tbody tr th:only-of-type {\n",
       "        vertical-align: middle;\n",
       "    }\n",
       "\n",
       "    .dataframe tbody tr th {\n",
       "        vertical-align: top;\n",
       "    }\n",
       "\n",
       "    .dataframe thead th {\n",
       "        text-align: right;\n",
       "    }\n",
       "</style>\n",
       "<table border=\"1\" class=\"dataframe\">\n",
       "  <thead>\n",
       "    <tr style=\"text-align: right;\">\n",
       "      <th></th>\n",
       "      <th>R&amp;D Spend</th>\n",
       "      <th>Administration</th>\n",
       "      <th>Marketing Spend</th>\n",
       "      <th>Profit</th>\n",
       "    </tr>\n",
       "  </thead>\n",
       "  <tbody>\n",
       "    <tr>\n",
       "      <th>0</th>\n",
       "      <td>165349.20</td>\n",
       "      <td>136897.80</td>\n",
       "      <td>471784.10</td>\n",
       "      <td>192261.83</td>\n",
       "    </tr>\n",
       "    <tr>\n",
       "      <th>1</th>\n",
       "      <td>162597.70</td>\n",
       "      <td>151377.59</td>\n",
       "      <td>443898.53</td>\n",
       "      <td>191792.06</td>\n",
       "    </tr>\n",
       "    <tr>\n",
       "      <th>2</th>\n",
       "      <td>153441.51</td>\n",
       "      <td>101145.55</td>\n",
       "      <td>407934.54</td>\n",
       "      <td>191050.39</td>\n",
       "    </tr>\n",
       "    <tr>\n",
       "      <th>3</th>\n",
       "      <td>144372.41</td>\n",
       "      <td>118671.85</td>\n",
       "      <td>383199.62</td>\n",
       "      <td>182901.99</td>\n",
       "    </tr>\n",
       "    <tr>\n",
       "      <th>4</th>\n",
       "      <td>142107.34</td>\n",
       "      <td>91391.77</td>\n",
       "      <td>366168.42</td>\n",
       "      <td>166187.94</td>\n",
       "    </tr>\n",
       "  </tbody>\n",
       "</table>\n",
       "</div>"
      ],
      "text/plain": [
       "   R&D Spend  Administration  Marketing Spend     Profit\n",
       "0  165349.20       136897.80        471784.10  192261.83\n",
       "1  162597.70       151377.59        443898.53  191792.06\n",
       "2  153441.51       101145.55        407934.54  191050.39\n",
       "3  144372.41       118671.85        383199.62  182901.99\n",
       "4  142107.34        91391.77        366168.42  166187.94"
      ]
     },
     "execution_count": 2,
     "metadata": {},
     "output_type": "execute_result"
    }
   ],
   "source": [
    "Score = pd.read_csv(\"startup.csv\")\n",
    "Score.shape\n",
    "Score.head()"
   ]
  },
  {
   "cell_type": "code",
   "execution_count": 15,
   "metadata": {
    "colab": {
     "base_uri": "https://localhost:8080/"
    },
    "id": "-VydnIJNcYRc",
    "outputId": "8aa5aec8-065d-487a-8ede-262beb8f154f"
   },
   "outputs": [],
   "source": [
    "#preparing the data\n",
    "X = Score.drop('Profit', axis=1)\n",
    "y = Score['Profit']"
   ]
  },
  {
   "cell_type": "code",
   "execution_count": 16,
   "metadata": {},
   "outputs": [
    {
     "name": "stdout",
     "output_type": "stream",
     "text": [
      "    R&D Spend  Administration  Marketing Spend  SN\n",
      "0   165349.20       136897.80        471784.10  SN\n",
      "1   162597.70       151377.59        443898.53  SN\n",
      "2   153441.51       101145.55        407934.54  SN\n",
      "3   144372.41       118671.85        383199.62  SN\n",
      "4   142107.34        91391.77        366168.42  SN\n",
      "5   131876.90        99814.71        362861.36  SN\n",
      "6   134615.46       147198.87        127716.82  SN\n",
      "7   130298.13       145530.06        323876.68  SN\n",
      "8   120542.52       148718.95        311613.29  SN\n",
      "9   123334.88       108679.17        304981.62  SN\n",
      "10  101913.08       110594.11        229160.95  SN\n",
      "11  100671.96        91790.61        249744.55  SN\n",
      "12   93863.75       127320.38        249839.44  SN\n",
      "13   91992.39       135495.07        252664.93  SN\n",
      "14  119943.24       156547.42        256512.92  SN\n",
      "15  114523.61       122616.84        261776.23  SN\n",
      "16   78013.11       121597.55        264346.06  SN\n",
      "17   94657.16       145077.58        282574.31  SN\n",
      "18   91749.16       114175.79        294919.57  SN\n",
      "19   86419.70       153514.11             0.00  SN\n",
      "20   76253.86       113867.30        298664.47  SN\n",
      "21   78389.47       153773.43        299737.29  SN\n",
      "22   73994.56       122782.75        303319.26  SN\n",
      "23   67532.53       105751.03        304768.73  SN\n",
      "24   77044.01        99281.34        140574.81  SN\n",
      "25   64664.71       139553.16        137962.62  SN\n",
      "26   75328.87       144135.98        134050.07  SN\n",
      "27   72107.60       127864.55        353183.81  SN\n",
      "28   66051.52       182645.56        118148.20  SN\n",
      "29   65605.48       153032.06        107138.38  SN\n",
      "30   61994.48       115641.28         91131.24  SN\n",
      "31   61136.38       152701.92         88218.23  SN\n",
      "32   63408.86       129219.61         46085.25  SN\n",
      "33   55493.95       103057.49        214634.81  SN\n",
      "34   46426.07       157693.92        210797.67  SN\n",
      "35   46014.02        85047.44        205517.64  SN\n",
      "36   28663.76       127056.21        201126.82  SN\n",
      "37   44069.95        51283.14        197029.42  SN\n",
      "38   20229.59        65947.93        185265.10  SN\n",
      "39   38558.51        82982.09        174999.30  SN\n",
      "40   28754.33       118546.05        172795.67  SN\n",
      "41   27892.92        84710.77        164470.71  SN\n",
      "42   23640.93        96189.63        148001.11  SN\n",
      "43   15505.73       127382.30         35534.17  SN\n",
      "44   22177.74       154806.14         28334.72  SN\n",
      "45    1000.23       124153.04          1903.93  SN\n",
      "46    1315.46       115816.21        297114.46  SN\n",
      "47       0.00       135426.92             0.00  SN\n",
      "48     542.05        51743.15             0.00  SN\n",
      "49       0.00       116983.80         45173.06  SN\n"
     ]
    }
   ],
   "source": [
    "X[['SN']] = 'SN'\n",
    "print(X)\n",
    "#X.to_csv('submission.csv')\n"
   ]
  },
  {
   "cell_type": "code",
   "execution_count": null,
   "metadata": {
    "id": "P6cCGzH1dkcF"
   },
   "outputs": [],
   "source": [
    "from sklearn.model_selection import train_test_split\n",
    "X_train, X_test, y_train, y_test = train_test_split(X, y, test_size=0.2, random_state=0)"
   ]
  },
  {
   "cell_type": "code",
   "execution_count": null,
   "metadata": {
    "colab": {
     "base_uri": "https://localhost:8080/"
    },
    "id": "mbj4N52MdqkY",
    "outputId": "98ac08e8-0b79-4b1d-cc7f-80ee4833778f"
   },
   "outputs": [],
   "source": [
    "from sklearn.linear_model import LinearRegression\n",
    "regressor = LinearRegression()\n",
    "regressor.fit(X_train, y_train)"
   ]
  },
  {
   "cell_type": "code",
   "execution_count": null,
   "metadata": {
    "colab": {
     "base_uri": "https://localhost:8080/"
    },
    "id": "R7HbqcsFd-a5",
    "outputId": "882014aa-69f2-4b41-9c3d-94309df0a9a7"
   },
   "outputs": [],
   "source": [
    "#printing parameters:\n",
    "print(regressor.intercept_)\n",
    "print(regressor.coef_)"
   ]
  },
  {
   "cell_type": "code",
   "execution_count": null,
   "metadata": {
    "id": "Y_fWQm0meIfy"
   },
   "outputs": [],
   "source": [
    "#making predictions:\n",
    "y_pred = regressor.predict(X_test)"
   ]
  },
  {
   "cell_type": "code",
   "execution_count": null,
   "metadata": {
    "colab": {
     "base_uri": "https://localhost:8080/",
     "height": 362
    },
    "id": "Y6Bsu0fweOFr",
    "outputId": "705cde93-ada0-47fa-a8b9-9e913e6c9d37"
   },
   "outputs": [],
   "source": [
    "df = pd.DataFrame({'Actual': y_test, 'Predicted': y_pred})\n",
    "df"
   ]
  },
  {
   "cell_type": "code",
   "execution_count": null,
   "metadata": {
    "colab": {
     "base_uri": "https://localhost:8080/"
    },
    "id": "rskk1tOneiqC",
    "outputId": "5545ea54-a549-4448-9b44-8b806b7ca23d"
   },
   "outputs": [],
   "source": [
    "# The coefficients\n",
    "from sklearn.metrics import mean_squared_error, r2_score\n",
    "# The mean squared error\n",
    "print('Mean squared error: %.2f'\n",
    "      % mean_squared_error(y_test, y_pred))\n",
    "# The coefficient of determination: 1 is perfect prediction\n",
    "print('R^2 Score: %.2f'\n",
    "      % r2_score(y_test, y_pred))"
   ]
  },
  {
   "cell_type": "code",
   "execution_count": null,
   "metadata": {
    "colab": {
     "base_uri": "https://localhost:8080/",
     "height": 252
    },
    "id": "0Z6lmJxOemh2",
    "outputId": "23516323-830d-475b-a304-867dcfa06daf"
   },
   "outputs": [],
   "source": [
    "# Plot outputs\n",
    "plt.scatter(X_test['Administration'], y_test,  color='black')\n",
    "plt.scatter(X_test['Administration'], y_pred, color='blue')\n",
    "\n",
    "plt.xticks(())\n",
    "plt.yticks(())\n",
    "\n",
    "plt.show()"
   ]
  },
  {
   "cell_type": "code",
   "execution_count": null,
   "metadata": {
    "colab": {
     "base_uri": "https://localhost:8080/",
     "height": 570
    },
    "id": "V06Es8_0zvYp",
    "outputId": "d39c258d-c783-4276-f6f7-26bc30019fd5"
   },
   "outputs": [],
   "source": [
    "# Plot outputs\n",
    "plt.scatter(X_test['R&D Spend'], y_test,  color='black')\n",
    "plt.scatter(X_test['R&D Spend'], y_pred, color='blue')\n",
    "\n",
    "plt.xticks(())\n",
    "plt.yticks(())\n",
    "\n",
    "plt.show()"
   ]
  },
  {
   "cell_type": "code",
   "execution_count": null,
   "metadata": {},
   "outputs": [],
   "source": []
  }
 ],
 "metadata": {
  "colab": {
   "name": "Multiple-linear regression.ipynb",
   "provenance": []
  },
  "kernelspec": {
   "display_name": "Python 3 (ipykernel)",
   "language": "python",
   "name": "python3"
  },
  "language_info": {
   "codemirror_mode": {
    "name": "ipython",
    "version": 3
   },
   "file_extension": ".py",
   "mimetype": "text/x-python",
   "name": "python",
   "nbconvert_exporter": "python",
   "pygments_lexer": "ipython3",
   "version": "3.9.13"
  }
 },
 "nbformat": 4,
 "nbformat_minor": 4
}
