{
 "cells": [
  {
   "cell_type": "markdown",
   "metadata": {
    "id": "R-81vkH1aDGJ"
   },
   "source": [
    "Kunal Kishore || 22810041"
   ]
  },
  {
   "cell_type": "code",
   "execution_count": 1,
   "metadata": {
    "colab": {
     "base_uri": "https://localhost:8080/"
    },
    "executionInfo": {
     "elapsed": 4293,
     "status": "ok",
     "timestamp": 1692360580254,
     "user": {
      "displayName": "KUNAL KISHORE",
      "userId": "12202613744914327626"
     },
     "user_tz": -330
    },
    "id": "kagzu0ALamZV",
    "outputId": "0234d91c-32a9-43a1-a390-76220d97f17e"
   },
   "outputs": [],
   "source": [
    "## import libraries\n",
    "\n",
    "import numpy as np\n",
    "import pandas as pd\n",
    "import matplotlib.pyplot as plt\n",
    "\n",
    "from sklearn.linear_model import LinearRegression\n",
    "from sklearn.model_selection import train_test_split\n",
    "from sklearn.metrics import mean_squared_error\n",
    "from sklearn.metrics import r2_score\n"
   ]
  },
  {
   "cell_type": "code",
   "execution_count": 2,
   "metadata": {
    "id": "CteeFmtga6ov"
   },
   "outputs": [],
   "source": [
    "## read file\n",
    "\n",
    "df = pd.read_csv('US_Regional_Sales_Data.csv')"
   ]
  },
  {
   "cell_type": "code",
   "execution_count": 3,
   "metadata": {
    "colab": {
     "base_uri": "https://localhost:8080/",
     "height": 330
    },
    "executionInfo": {
     "elapsed": 51,
     "status": "ok",
     "timestamp": 1692360580257,
     "user": {
      "displayName": "KUNAL KISHORE",
      "userId": "12202613744914327626"
     },
     "user_tz": -330
    },
    "id": "VpXX0ETmbJVo",
    "outputId": "cdc4f9bc-6a50-4b88-e00d-2809bb6031b8"
   },
   "outputs": [
    {
     "data": {
      "text/html": [
       "<div>\n",
       "<style scoped>\n",
       "    .dataframe tbody tr th:only-of-type {\n",
       "        vertical-align: middle;\n",
       "    }\n",
       "\n",
       "    .dataframe tbody tr th {\n",
       "        vertical-align: top;\n",
       "    }\n",
       "\n",
       "    .dataframe thead th {\n",
       "        text-align: right;\n",
       "    }\n",
       "</style>\n",
       "<table border=\"1\" class=\"dataframe\">\n",
       "  <thead>\n",
       "    <tr style=\"text-align: right;\">\n",
       "      <th></th>\n",
       "      <th>OrderNumber</th>\n",
       "      <th>Sales Channel</th>\n",
       "      <th>WarehouseCode</th>\n",
       "      <th>ProcuredDate</th>\n",
       "      <th>OrderDate</th>\n",
       "      <th>ShipDate</th>\n",
       "      <th>DeliveryDate</th>\n",
       "      <th>CurrencyCode</th>\n",
       "      <th>_SalesTeamID</th>\n",
       "      <th>_CustomerID</th>\n",
       "      <th>_StoreID</th>\n",
       "      <th>_ProductID</th>\n",
       "      <th>Order Quantity</th>\n",
       "      <th>Discount Applied</th>\n",
       "      <th>Unit Cost</th>\n",
       "      <th>Unit Price</th>\n",
       "    </tr>\n",
       "  </thead>\n",
       "  <tbody>\n",
       "    <tr>\n",
       "      <th>0</th>\n",
       "      <td>SO - 000101</td>\n",
       "      <td>In-Store</td>\n",
       "      <td>WARE-UHY1004</td>\n",
       "      <td>31/12/17</td>\n",
       "      <td>31/5/18</td>\n",
       "      <td>14/6/18</td>\n",
       "      <td>19/6/18</td>\n",
       "      <td>USD</td>\n",
       "      <td>6</td>\n",
       "      <td>15</td>\n",
       "      <td>259</td>\n",
       "      <td>12</td>\n",
       "      <td>5</td>\n",
       "      <td>0.075</td>\n",
       "      <td>1,001.18</td>\n",
       "      <td>1,963.10</td>\n",
       "    </tr>\n",
       "    <tr>\n",
       "      <th>1</th>\n",
       "      <td>SO - 000102</td>\n",
       "      <td>Online</td>\n",
       "      <td>WARE-NMK1003</td>\n",
       "      <td>31/12/17</td>\n",
       "      <td>31/5/18</td>\n",
       "      <td>22/6/18</td>\n",
       "      <td>2/7/18</td>\n",
       "      <td>USD</td>\n",
       "      <td>14</td>\n",
       "      <td>20</td>\n",
       "      <td>196</td>\n",
       "      <td>27</td>\n",
       "      <td>3</td>\n",
       "      <td>0.075</td>\n",
       "      <td>3,348.66</td>\n",
       "      <td>3,939.60</td>\n",
       "    </tr>\n",
       "    <tr>\n",
       "      <th>2</th>\n",
       "      <td>SO - 000103</td>\n",
       "      <td>Distributor</td>\n",
       "      <td>WARE-UHY1004</td>\n",
       "      <td>31/12/17</td>\n",
       "      <td>31/5/18</td>\n",
       "      <td>21/6/18</td>\n",
       "      <td>1/7/18</td>\n",
       "      <td>USD</td>\n",
       "      <td>21</td>\n",
       "      <td>16</td>\n",
       "      <td>213</td>\n",
       "      <td>16</td>\n",
       "      <td>1</td>\n",
       "      <td>0.050</td>\n",
       "      <td>781.22</td>\n",
       "      <td>1,775.50</td>\n",
       "    </tr>\n",
       "    <tr>\n",
       "      <th>3</th>\n",
       "      <td>SO - 000104</td>\n",
       "      <td>Wholesale</td>\n",
       "      <td>WARE-NMK1003</td>\n",
       "      <td>31/12/17</td>\n",
       "      <td>31/5/18</td>\n",
       "      <td>2/6/18</td>\n",
       "      <td>7/6/18</td>\n",
       "      <td>USD</td>\n",
       "      <td>28</td>\n",
       "      <td>48</td>\n",
       "      <td>107</td>\n",
       "      <td>23</td>\n",
       "      <td>8</td>\n",
       "      <td>0.075</td>\n",
       "      <td>1,464.69</td>\n",
       "      <td>2,324.90</td>\n",
       "    </tr>\n",
       "    <tr>\n",
       "      <th>4</th>\n",
       "      <td>SO - 000105</td>\n",
       "      <td>Distributor</td>\n",
       "      <td>WARE-NMK1003</td>\n",
       "      <td>10/4/18</td>\n",
       "      <td>31/5/18</td>\n",
       "      <td>16/6/18</td>\n",
       "      <td>26/6/18</td>\n",
       "      <td>USD</td>\n",
       "      <td>22</td>\n",
       "      <td>49</td>\n",
       "      <td>111</td>\n",
       "      <td>26</td>\n",
       "      <td>8</td>\n",
       "      <td>0.100</td>\n",
       "      <td>1,476.14</td>\n",
       "      <td>1,822.40</td>\n",
       "    </tr>\n",
       "  </tbody>\n",
       "</table>\n",
       "</div>"
      ],
      "text/plain": [
       "   OrderNumber Sales Channel WarehouseCode ProcuredDate OrderDate ShipDate  \\\n",
       "0  SO - 000101      In-Store  WARE-UHY1004     31/12/17   31/5/18  14/6/18   \n",
       "1  SO - 000102        Online  WARE-NMK1003     31/12/17   31/5/18  22/6/18   \n",
       "2  SO - 000103   Distributor  WARE-UHY1004     31/12/17   31/5/18  21/6/18   \n",
       "3  SO - 000104     Wholesale  WARE-NMK1003     31/12/17   31/5/18   2/6/18   \n",
       "4  SO - 000105   Distributor  WARE-NMK1003      10/4/18   31/5/18  16/6/18   \n",
       "\n",
       "  DeliveryDate CurrencyCode  _SalesTeamID  _CustomerID  _StoreID  _ProductID  \\\n",
       "0      19/6/18          USD             6           15       259          12   \n",
       "1       2/7/18          USD            14           20       196          27   \n",
       "2       1/7/18          USD            21           16       213          16   \n",
       "3       7/6/18          USD            28           48       107          23   \n",
       "4      26/6/18          USD            22           49       111          26   \n",
       "\n",
       "   Order Quantity  Discount Applied Unit Cost Unit Price  \n",
       "0               5             0.075  1,001.18   1,963.10  \n",
       "1               3             0.075  3,348.66   3,939.60  \n",
       "2               1             0.050    781.22   1,775.50  \n",
       "3               8             0.075  1,464.69   2,324.90  \n",
       "4               8             0.100  1,476.14   1,822.40  "
      ]
     },
     "execution_count": 3,
     "metadata": {},
     "output_type": "execute_result"
    }
   ],
   "source": [
    "df.head()"
   ]
  },
  {
   "cell_type": "code",
   "execution_count": 4,
   "metadata": {
    "colab": {
     "base_uri": "https://localhost:8080/"
    },
    "executionInfo": {
     "elapsed": 50,
     "status": "ok",
     "timestamp": 1692360580260,
     "user": {
      "displayName": "KUNAL KISHORE",
      "userId": "12202613744914327626"
     },
     "user_tz": -330
    },
    "id": "ftee7cIcbriW",
    "outputId": "f72c9f47-257e-4f68-9923-cc92a8d05bc6"
   },
   "outputs": [
    {
     "data": {
      "text/plain": [
       "(7991, 16)"
      ]
     },
     "execution_count": 4,
     "metadata": {},
     "output_type": "execute_result"
    }
   ],
   "source": [
    "df.shape"
   ]
  },
  {
   "cell_type": "code",
   "execution_count": 5,
   "metadata": {
    "colab": {
     "base_uri": "https://localhost:8080/"
    },
    "executionInfo": {
     "elapsed": 45,
     "status": "ok",
     "timestamp": 1692360580263,
     "user": {
      "displayName": "KUNAL KISHORE",
      "userId": "12202613744914327626"
     },
     "user_tz": -330
    },
    "id": "KoCxRYXLbt3y",
    "outputId": "4d578463-02af-46ab-9077-7815c8309fd5"
   },
   "outputs": [
    {
     "data": {
      "text/plain": [
       "OrderNumber          object\n",
       "Sales Channel        object\n",
       "WarehouseCode        object\n",
       "ProcuredDate         object\n",
       "OrderDate            object\n",
       "ShipDate             object\n",
       "DeliveryDate         object\n",
       "CurrencyCode         object\n",
       "_SalesTeamID          int64\n",
       "_CustomerID           int64\n",
       "_StoreID              int64\n",
       "_ProductID            int64\n",
       "Order Quantity        int64\n",
       "Discount Applied    float64\n",
       "Unit Cost            object\n",
       "Unit Price           object\n",
       "dtype: object"
      ]
     },
     "execution_count": 5,
     "metadata": {},
     "output_type": "execute_result"
    }
   ],
   "source": [
    "df.dtypes"
   ]
  },
  {
   "cell_type": "code",
   "execution_count": 6,
   "metadata": {
    "colab": {
     "base_uri": "https://localhost:8080/"
    },
    "executionInfo": {
     "elapsed": 43,
     "status": "ok",
     "timestamp": 1692360580266,
     "user": {
      "displayName": "KUNAL KISHORE",
      "userId": "12202613744914327626"
     },
     "user_tz": -330
    },
    "id": "r3GuQjRLbwsB",
    "outputId": "f6e59d0e-82fd-4b13-ec44-22af67199a81"
   },
   "outputs": [
    {
     "data": {
      "text/plain": [
       "OrderNumber         0\n",
       "Sales Channel       0\n",
       "WarehouseCode       0\n",
       "ProcuredDate        0\n",
       "OrderDate           0\n",
       "ShipDate            0\n",
       "DeliveryDate        0\n",
       "CurrencyCode        0\n",
       "_SalesTeamID        0\n",
       "_CustomerID         0\n",
       "_StoreID            0\n",
       "_ProductID          0\n",
       "Order Quantity      0\n",
       "Discount Applied    0\n",
       "Unit Cost           0\n",
       "Unit Price          0\n",
       "dtype: int64"
      ]
     },
     "execution_count": 6,
     "metadata": {},
     "output_type": "execute_result"
    }
   ],
   "source": [
    "df.isnull().sum()"
   ]
  },
  {
   "cell_type": "code",
   "execution_count": 7,
   "metadata": {
    "colab": {
     "base_uri": "https://localhost:8080/",
     "height": 300
    },
    "executionInfo": {
     "elapsed": 41,
     "status": "ok",
     "timestamp": 1692360580269,
     "user": {
      "displayName": "KUNAL KISHORE",
      "userId": "12202613744914327626"
     },
     "user_tz": -330
    },
    "id": "enTqvyP8ge64",
    "outputId": "128033fb-e19b-4ff5-c53c-6a53b6c03d4f"
   },
   "outputs": [
    {
     "data": {
      "text/html": [
       "<div>\n",
       "<style scoped>\n",
       "    .dataframe tbody tr th:only-of-type {\n",
       "        vertical-align: middle;\n",
       "    }\n",
       "\n",
       "    .dataframe tbody tr th {\n",
       "        vertical-align: top;\n",
       "    }\n",
       "\n",
       "    .dataframe thead th {\n",
       "        text-align: right;\n",
       "    }\n",
       "</style>\n",
       "<table border=\"1\" class=\"dataframe\">\n",
       "  <thead>\n",
       "    <tr style=\"text-align: right;\">\n",
       "      <th></th>\n",
       "      <th>_SalesTeamID</th>\n",
       "      <th>_CustomerID</th>\n",
       "      <th>_StoreID</th>\n",
       "      <th>_ProductID</th>\n",
       "      <th>Order Quantity</th>\n",
       "      <th>Discount Applied</th>\n",
       "    </tr>\n",
       "  </thead>\n",
       "  <tbody>\n",
       "    <tr>\n",
       "      <th>count</th>\n",
       "      <td>7991.000000</td>\n",
       "      <td>7991.000000</td>\n",
       "      <td>7991.000000</td>\n",
       "      <td>7991.000000</td>\n",
       "      <td>7991.000000</td>\n",
       "      <td>7991.000000</td>\n",
       "    </tr>\n",
       "    <tr>\n",
       "      <th>mean</th>\n",
       "      <td>14.384307</td>\n",
       "      <td>25.457014</td>\n",
       "      <td>183.850081</td>\n",
       "      <td>23.771743</td>\n",
       "      <td>4.525341</td>\n",
       "      <td>0.114394</td>\n",
       "    </tr>\n",
       "    <tr>\n",
       "      <th>std</th>\n",
       "      <td>7.986086</td>\n",
       "      <td>14.414883</td>\n",
       "      <td>105.903946</td>\n",
       "      <td>13.526545</td>\n",
       "      <td>2.312631</td>\n",
       "      <td>0.085570</td>\n",
       "    </tr>\n",
       "    <tr>\n",
       "      <th>min</th>\n",
       "      <td>1.000000</td>\n",
       "      <td>1.000000</td>\n",
       "      <td>1.000000</td>\n",
       "      <td>1.000000</td>\n",
       "      <td>1.000000</td>\n",
       "      <td>0.050000</td>\n",
       "    </tr>\n",
       "    <tr>\n",
       "      <th>25%</th>\n",
       "      <td>8.000000</td>\n",
       "      <td>13.000000</td>\n",
       "      <td>91.000000</td>\n",
       "      <td>12.000000</td>\n",
       "      <td>3.000000</td>\n",
       "      <td>0.050000</td>\n",
       "    </tr>\n",
       "    <tr>\n",
       "      <th>50%</th>\n",
       "      <td>14.000000</td>\n",
       "      <td>25.000000</td>\n",
       "      <td>183.000000</td>\n",
       "      <td>24.000000</td>\n",
       "      <td>5.000000</td>\n",
       "      <td>0.075000</td>\n",
       "    </tr>\n",
       "    <tr>\n",
       "      <th>75%</th>\n",
       "      <td>21.000000</td>\n",
       "      <td>38.000000</td>\n",
       "      <td>276.000000</td>\n",
       "      <td>36.000000</td>\n",
       "      <td>7.000000</td>\n",
       "      <td>0.150000</td>\n",
       "    </tr>\n",
       "    <tr>\n",
       "      <th>max</th>\n",
       "      <td>28.000000</td>\n",
       "      <td>50.000000</td>\n",
       "      <td>367.000000</td>\n",
       "      <td>47.000000</td>\n",
       "      <td>8.000000</td>\n",
       "      <td>0.400000</td>\n",
       "    </tr>\n",
       "  </tbody>\n",
       "</table>\n",
       "</div>"
      ],
      "text/plain": [
       "       _SalesTeamID  _CustomerID     _StoreID   _ProductID  Order Quantity  \\\n",
       "count   7991.000000  7991.000000  7991.000000  7991.000000     7991.000000   \n",
       "mean      14.384307    25.457014   183.850081    23.771743        4.525341   \n",
       "std        7.986086    14.414883   105.903946    13.526545        2.312631   \n",
       "min        1.000000     1.000000     1.000000     1.000000        1.000000   \n",
       "25%        8.000000    13.000000    91.000000    12.000000        3.000000   \n",
       "50%       14.000000    25.000000   183.000000    24.000000        5.000000   \n",
       "75%       21.000000    38.000000   276.000000    36.000000        7.000000   \n",
       "max       28.000000    50.000000   367.000000    47.000000        8.000000   \n",
       "\n",
       "       Discount Applied  \n",
       "count       7991.000000  \n",
       "mean           0.114394  \n",
       "std            0.085570  \n",
       "min            0.050000  \n",
       "25%            0.050000  \n",
       "50%            0.075000  \n",
       "75%            0.150000  \n",
       "max            0.400000  "
      ]
     },
     "execution_count": 7,
     "metadata": {},
     "output_type": "execute_result"
    }
   ],
   "source": [
    "df.describe()\n"
   ]
  },
  {
   "cell_type": "markdown",
   "metadata": {},
   "source": [
    "#dropping colums"
   ]
  },
  {
   "cell_type": "code",
   "execution_count": 8,
   "metadata": {
    "id": "O3HUcDMGb5jV"
   },
   "outputs": [],
   "source": [
    "#dropping irrelevant columns\n",
    "#OrderNumber\n",
    "df = df.drop(columns = 'OrderNumber')\n",
    "\n",
    "#CurrencyCode\n",
    "df = df.drop(columns = 'CurrencyCode')\n"
   ]
  },
  {
   "cell_type": "markdown",
   "metadata": {},
   "source": [
    "#converting dates into numerical\n"
   ]
  },
  {
   "cell_type": "code",
   "execution_count": 9,
   "metadata": {
    "id": "PXDzVVKbfix5"
   },
   "outputs": [],
   "source": [
    "#converting dates into numerical\n",
    "df['ProcuredDate'] = df['ProcuredDate'].str.replace('[/-]', '', regex=True).astype(np.int64)\n"
   ]
  },
  {
   "cell_type": "code",
   "execution_count": 10,
   "metadata": {},
   "outputs": [],
   "source": [
    "df['OrderDate'] = df['OrderDate'].str.replace('[/-]', '', regex=True).astype(np.int64)\n"
   ]
  },
  {
   "cell_type": "code",
   "execution_count": 11,
   "metadata": {},
   "outputs": [],
   "source": [
    "df['ShipDate'] = df['ShipDate'].str.replace('[/-]', '', regex=True).astype(np.int64)\n"
   ]
  },
  {
   "cell_type": "code",
   "execution_count": 12,
   "metadata": {},
   "outputs": [],
   "source": [
    "df['DeliveryDate'] = df['DeliveryDate'].str.replace('[/-]', '', regex=True).astype(np.int64)\n"
   ]
  },
  {
   "cell_type": "code",
   "execution_count": 13,
   "metadata": {
    "id": "nFzLqKZ6i4og"
   },
   "outputs": [],
   "source": [
    "df['Unit Cost'] = df['Unit Cost'].str.replace(',', '')\n",
    "df['Unit Price'] = df['Unit Price'].str.replace(',', '')"
   ]
  },
  {
   "cell_type": "code",
   "execution_count": 14,
   "metadata": {
    "id": "ll8BVPlJcbfR"
   },
   "outputs": [],
   "source": [
    "#remove , to convert to numerical\n",
    "df['Unit Cost'] = pd.to_numeric( df['Unit Cost'] )\n",
    "df['Unit Price'] =pd.to_numeric(df['Unit Price'] )\n"
   ]
  },
  {
   "cell_type": "code",
   "execution_count": 15,
   "metadata": {
    "colab": {
     "base_uri": "https://localhost:8080/"
    },
    "executionInfo": {
     "elapsed": 542,
     "status": "ok",
     "timestamp": 1692360632495,
     "user": {
      "displayName": "KUNAL KISHORE",
      "userId": "12202613744914327626"
     },
     "user_tz": -330
    },
    "id": "OjRvltCdcfAH",
    "outputId": "0a297f0f-a730-483a-f680-37ce1cbc03b7"
   },
   "outputs": [
    {
     "data": {
      "text/plain": [
       "Sales Channel        object\n",
       "WarehouseCode        object\n",
       "ProcuredDate          int64\n",
       "OrderDate             int64\n",
       "ShipDate              int64\n",
       "DeliveryDate          int64\n",
       "_SalesTeamID          int64\n",
       "_CustomerID           int64\n",
       "_StoreID              int64\n",
       "_ProductID            int64\n",
       "Order Quantity        int64\n",
       "Discount Applied    float64\n",
       "Unit Cost           float64\n",
       "Unit Price          float64\n",
       "dtype: object"
      ]
     },
     "execution_count": 15,
     "metadata": {},
     "output_type": "execute_result"
    }
   ],
   "source": [
    "df.dtypes"
   ]
  },
  {
   "cell_type": "code",
   "execution_count": null,
   "metadata": {
    "id": "gTtRvjz7cv4X"
   },
   "outputs": [],
   "source": []
  },
  {
   "cell_type": "code",
   "execution_count": 16,
   "metadata": {
    "id": "U8DDId2gcwCz"
   },
   "outputs": [],
   "source": [
    "# Identify the data types of the features\n",
    "\n",
    "numerical_features = df.select_dtypes(include=['int', 'float']).columns\n",
    "categorical_features = df.select_dtypes(include=['object']).columns"
   ]
  },
  {
   "cell_type": "code",
   "execution_count": 17,
   "metadata": {
    "colab": {
     "base_uri": "https://localhost:8080/"
    },
    "executionInfo": {
     "elapsed": 711,
     "status": "ok",
     "timestamp": 1692360673486,
     "user": {
      "displayName": "KUNAL KISHORE",
      "userId": "12202613744914327626"
     },
     "user_tz": -330
    },
    "id": "SFO8ocvMciW-",
    "outputId": "ba82ac3a-de45-48a8-d97e-933246f6ff46"
   },
   "outputs": [
    {
     "name": "stdout",
     "output_type": "stream",
     "text": [
      "Numerical Features Summary:\n",
      "        ProcuredDate      OrderDate       ShipDate   DeliveryDate  \\\n",
      "count    7991.000000    7991.000000    7991.000000    7991.000000   \n",
      "mean    46200.263546   58852.886748   57129.123514   57233.706295   \n",
      "std     85249.441307   82346.017960   80434.397914   80403.804924   \n",
      "min      4219.000000    1119.000000    1119.000000    1119.000000   \n",
      "25%     10418.000000   11420.000000   11420.000000   11619.500000   \n",
      "50%     15519.000000   21720.000000   21220.000000   21420.000000   \n",
      "75%     23819.000000   51069.000000   41218.000000   41219.000000   \n",
      "max    311217.000000  311219.000000  311220.000000  311220.000000   \n",
      "\n",
      "       _SalesTeamID  _CustomerID     _StoreID   _ProductID  Order Quantity  \\\n",
      "count   7991.000000  7991.000000  7991.000000  7991.000000     7991.000000   \n",
      "mean      14.384307    25.457014   183.850081    23.771743        4.525341   \n",
      "std        7.986086    14.414883   105.903946    13.526545        2.312631   \n",
      "min        1.000000     1.000000     1.000000     1.000000        1.000000   \n",
      "25%        8.000000    13.000000    91.000000    12.000000        3.000000   \n",
      "50%       14.000000    25.000000   183.000000    24.000000        5.000000   \n",
      "75%       21.000000    38.000000   276.000000    36.000000        7.000000   \n",
      "max       28.000000    50.000000   367.000000    47.000000        8.000000   \n",
      "\n",
      "       Discount Applied    Unit Cost   Unit Price  \n",
      "count       7991.000000  7991.000000  7991.000000  \n",
      "mean           0.114394  1431.911513  2284.536504  \n",
      "std            0.085570  1112.413063  1673.096364  \n",
      "min            0.050000    68.680000   167.500000  \n",
      "25%            0.050000   606.120000  1031.800000  \n",
      "50%            0.075000  1080.580000  1849.200000  \n",
      "75%            0.150000  2040.250000  3611.300000  \n",
      "max            0.400000  5498.560000  6566.000000  \n"
     ]
    }
   ],
   "source": [
    "# Group numerical features\n",
    "numerical_data = df[numerical_features]\n",
    "numerical_summary = numerical_data.describe()\n",
    "print(\"Numerical Features Summary:\")\n",
    "print(numerical_summary)"
   ]
  },
  {
   "cell_type": "code",
   "execution_count": 18,
   "metadata": {
    "colab": {
     "base_uri": "https://localhost:8080/"
    },
    "executionInfo": {
     "elapsed": 998,
     "status": "ok",
     "timestamp": 1692360677360,
     "user": {
      "displayName": "KUNAL KISHORE",
      "userId": "12202613744914327626"
     },
     "user_tz": -330
    },
    "id": "XIX2ggXAhAbT",
    "outputId": "09010ff1-2071-4b81-9c87-d3ec3445f9c0"
   },
   "outputs": [
    {
     "name": "stdout",
     "output_type": "stream",
     "text": [
      "\n",
      "Categorical Features Counts:\n",
      "Sales Channel    4\n",
      "WarehouseCode    6\n",
      "dtype: int64\n"
     ]
    }
   ],
   "source": [
    "# Group categorical features\n",
    "categorical_data = df[categorical_features]\n",
    "categorical_counts = categorical_data.nunique()\n",
    "print(\"\\nCategorical Features Counts:\")\n",
    "print(categorical_counts)"
   ]
  },
  {
   "cell_type": "code",
   "execution_count": null,
   "metadata": {
    "id": "2ucNl9NOjpIq"
   },
   "outputs": [],
   "source": []
  },
  {
   "cell_type": "code",
   "execution_count": null,
   "metadata": {
    "id": "Lay4rCzzk4FH"
   },
   "outputs": [],
   "source": []
  },
  {
   "cell_type": "code",
   "execution_count": null,
   "metadata": {
    "id": "JyVl0881k4MV"
   },
   "outputs": [],
   "source": []
  },
  {
   "cell_type": "code",
   "execution_count": 19,
   "metadata": {
    "colab": {
     "base_uri": "https://localhost:8080/"
    },
    "executionInfo": {
     "elapsed": 510,
     "status": "ok",
     "timestamp": 1692360907022,
     "user": {
      "displayName": "KUNAL KISHORE",
      "userId": "12202613744914327626"
     },
     "user_tz": -330
    },
    "id": "v1IGJfdHkglu",
    "outputId": "470aade5-a018-4155-f5be-808a3ba50676"
   },
   "outputs": [
    {
     "name": "stdout",
     "output_type": "stream",
     "text": [
      "Unique values of each features:\n",
      "\n",
      "Sales Channel\n",
      "['In-Store' 'Online' 'Distributor' 'Wholesale']\n",
      "WarehouseCode\n",
      "['WARE-UHY1004' 'WARE-NMK1003' 'WARE-PUJ1005' 'WARE-XYS1001'\n",
      " 'WARE-MKL1006' 'WARE-NBV1002']\n"
     ]
    }
   ],
   "source": [
    "print('Unique values of each features:\\n')\n",
    "for feature in categorical_data.columns:\n",
    "    print(feature)\n",
    "    print(categorical_data[feature].unique())"
   ]
  },
  {
   "cell_type": "code",
   "execution_count": 20,
   "metadata": {
    "id": "IX6W27-pkhQ0"
   },
   "outputs": [],
   "source": [
    "from sklearn.preprocessing import OrdinalEncoder\n",
    "from sklearn.preprocessing import LabelEncoder"
   ]
  },
  {
   "cell_type": "code",
   "execution_count": 21,
   "metadata": {
    "id": "n9PYCCFak5P2"
   },
   "outputs": [],
   "source": [
    "features_with_multiple_categories  = ['Sales Channel' , 'WarehouseCode']"
   ]
  },
  {
   "cell_type": "code",
   "execution_count": 22,
   "metadata": {
    "colab": {
     "base_uri": "https://localhost:8080/",
     "height": 243
    },
    "executionInfo": {
     "elapsed": 446,
     "status": "ok",
     "timestamp": 1692361623577,
     "user": {
      "displayName": "KUNAL KISHORE",
      "userId": "12202613744914327626"
     },
     "user_tz": -330
    },
    "id": "GyCWpuEzmqEz",
    "outputId": "3af523f1-d5df-46e9-f59f-5c3e7641a64c"
   },
   "outputs": [
    {
     "data": {
      "text/html": [
       "<div>\n",
       "<style scoped>\n",
       "    .dataframe tbody tr th:only-of-type {\n",
       "        vertical-align: middle;\n",
       "    }\n",
       "\n",
       "    .dataframe tbody tr th {\n",
       "        vertical-align: top;\n",
       "    }\n",
       "\n",
       "    .dataframe thead th {\n",
       "        text-align: right;\n",
       "    }\n",
       "</style>\n",
       "<table border=\"1\" class=\"dataframe\">\n",
       "  <thead>\n",
       "    <tr style=\"text-align: right;\">\n",
       "      <th></th>\n",
       "      <th>Sales Channel</th>\n",
       "      <th>WarehouseCode</th>\n",
       "      <th>ProcuredDate</th>\n",
       "      <th>OrderDate</th>\n",
       "      <th>ShipDate</th>\n",
       "      <th>DeliveryDate</th>\n",
       "      <th>_SalesTeamID</th>\n",
       "      <th>_CustomerID</th>\n",
       "      <th>_StoreID</th>\n",
       "      <th>_ProductID</th>\n",
       "      <th>Order Quantity</th>\n",
       "      <th>Discount Applied</th>\n",
       "      <th>Unit Cost</th>\n",
       "      <th>Unit Price</th>\n",
       "    </tr>\n",
       "  </thead>\n",
       "  <tbody>\n",
       "    <tr>\n",
       "      <th>0</th>\n",
       "      <td>1</td>\n",
       "      <td>4</td>\n",
       "      <td>311217</td>\n",
       "      <td>31518</td>\n",
       "      <td>14618</td>\n",
       "      <td>19618</td>\n",
       "      <td>6</td>\n",
       "      <td>15</td>\n",
       "      <td>259</td>\n",
       "      <td>12</td>\n",
       "      <td>5</td>\n",
       "      <td>0.075</td>\n",
       "      <td>1001.18</td>\n",
       "      <td>1963.1</td>\n",
       "    </tr>\n",
       "    <tr>\n",
       "      <th>1</th>\n",
       "      <td>2</td>\n",
       "      <td>2</td>\n",
       "      <td>311217</td>\n",
       "      <td>31518</td>\n",
       "      <td>22618</td>\n",
       "      <td>2718</td>\n",
       "      <td>14</td>\n",
       "      <td>20</td>\n",
       "      <td>196</td>\n",
       "      <td>27</td>\n",
       "      <td>3</td>\n",
       "      <td>0.075</td>\n",
       "      <td>3348.66</td>\n",
       "      <td>3939.6</td>\n",
       "    </tr>\n",
       "    <tr>\n",
       "      <th>2</th>\n",
       "      <td>0</td>\n",
       "      <td>4</td>\n",
       "      <td>311217</td>\n",
       "      <td>31518</td>\n",
       "      <td>21618</td>\n",
       "      <td>1718</td>\n",
       "      <td>21</td>\n",
       "      <td>16</td>\n",
       "      <td>213</td>\n",
       "      <td>16</td>\n",
       "      <td>1</td>\n",
       "      <td>0.050</td>\n",
       "      <td>781.22</td>\n",
       "      <td>1775.5</td>\n",
       "    </tr>\n",
       "    <tr>\n",
       "      <th>3</th>\n",
       "      <td>3</td>\n",
       "      <td>2</td>\n",
       "      <td>311217</td>\n",
       "      <td>31518</td>\n",
       "      <td>2618</td>\n",
       "      <td>7618</td>\n",
       "      <td>28</td>\n",
       "      <td>48</td>\n",
       "      <td>107</td>\n",
       "      <td>23</td>\n",
       "      <td>8</td>\n",
       "      <td>0.075</td>\n",
       "      <td>1464.69</td>\n",
       "      <td>2324.9</td>\n",
       "    </tr>\n",
       "    <tr>\n",
       "      <th>4</th>\n",
       "      <td>0</td>\n",
       "      <td>2</td>\n",
       "      <td>10418</td>\n",
       "      <td>31518</td>\n",
       "      <td>16618</td>\n",
       "      <td>26618</td>\n",
       "      <td>22</td>\n",
       "      <td>49</td>\n",
       "      <td>111</td>\n",
       "      <td>26</td>\n",
       "      <td>8</td>\n",
       "      <td>0.100</td>\n",
       "      <td>1476.14</td>\n",
       "      <td>1822.4</td>\n",
       "    </tr>\n",
       "  </tbody>\n",
       "</table>\n",
       "</div>"
      ],
      "text/plain": [
       "   Sales Channel  WarehouseCode  ProcuredDate  OrderDate  ShipDate  \\\n",
       "0              1              4        311217      31518     14618   \n",
       "1              2              2        311217      31518     22618   \n",
       "2              0              4        311217      31518     21618   \n",
       "3              3              2        311217      31518      2618   \n",
       "4              0              2         10418      31518     16618   \n",
       "\n",
       "   DeliveryDate  _SalesTeamID  _CustomerID  _StoreID  _ProductID  \\\n",
       "0         19618             6           15       259          12   \n",
       "1          2718            14           20       196          27   \n",
       "2          1718            21           16       213          16   \n",
       "3          7618            28           48       107          23   \n",
       "4         26618            22           49       111          26   \n",
       "\n",
       "   Order Quantity  Discount Applied  Unit Cost  Unit Price  \n",
       "0               5             0.075    1001.18      1963.1  \n",
       "1               3             0.075    3348.66      3939.6  \n",
       "2               1             0.050     781.22      1775.5  \n",
       "3               8             0.075    1464.69      2324.9  \n",
       "4               8             0.100    1476.14      1822.4  "
      ]
     },
     "execution_count": 22,
     "metadata": {},
     "output_type": "execute_result"
    }
   ],
   "source": [
    "# Create an instance of LabelEncoder\n",
    "encoder = LabelEncoder()\n",
    "\n",
    "# Perform label encoding on each categorical feature\n",
    "for feature in features_with_multiple_categories:\n",
    "    df[feature] = encoder.fit_transform(categorical_data[feature])\n",
    "\n",
    "# Print the updated DataFrame\n",
    "df.head()\n"
   ]
  },
  {
   "cell_type": "code",
   "execution_count": null,
   "metadata": {
    "id": "pVBAdHitniR5"
   },
   "outputs": [],
   "source": []
  },
  {
   "cell_type": "code",
   "execution_count": 23,
   "metadata": {
    "colab": {
     "base_uri": "https://localhost:8080/"
    },
    "executionInfo": {
     "elapsed": 431,
     "status": "ok",
     "timestamp": 1692361772557,
     "user": {
      "displayName": "KUNAL KISHORE",
      "userId": "12202613744914327626"
     },
     "user_tz": -330
    },
    "id": "_BQwJUACm0Qo",
    "outputId": "6a95ad2a-7afc-46e1-dbe9-88c0d3e76090"
   },
   "outputs": [
    {
     "name": "stdout",
     "output_type": "stream",
     "text": [
      "Mean Squared Error: 318093.0879536446\n",
      "R^2 Score: 0.8875061646987743\n"
     ]
    }
   ],
   "source": [
    "## Split training & testing data\n",
    "X = df.drop(columns = 'Unit Price')\n",
    "Y = df['Unit Price']\n",
    "X_train,X_test,Y_train,Y_test = train_test_split(X,Y,test_size = 0.3,random_state = 23)\n",
    "\n",
    "# Running linear Regression on train data\n",
    "model = LinearRegression()\n",
    "model.fit(X_train,Y_train)\n",
    "y_pred = model.predict(X_test)\n",
    "\n",
    "\n",
    "# Evaluate the model's performance using mean squared error (MSE)\n",
    "mse = mean_squared_error(Y_test,y_pred)\n",
    "r2 = r2_score(Y_test,y_pred)\n",
    "print(\"Mean Squared Error:\", mse)\n",
    "print(\"R^2 Score:\", r2)"
   ]
  },
  {
   "cell_type": "code",
   "execution_count": null,
   "metadata": {
    "id": "m_v0iFvVnufq"
   },
   "outputs": [],
   "source": []
  }
 ],
 "metadata": {
  "colab": {
   "authorship_tag": "ABX9TyN44UqCVY2CFmmNiDhqHCg1",
   "mount_file_id": "156SqJlKnoXAM-Qp5_ZXsnEZ41zVPl3dj",
   "provenance": [
    {
     "file_id": "156SqJlKnoXAM-Qp5_ZXsnEZ41zVPl3dj",
     "timestamp": 1692653089143
    }
   ]
  },
  "kernelspec": {
   "display_name": "Python 3 (ipykernel)",
   "language": "python",
   "name": "python3"
  },
  "language_info": {
   "codemirror_mode": {
    "name": "ipython",
    "version": 3
   },
   "file_extension": ".py",
   "mimetype": "text/x-python",
   "name": "python",
   "nbconvert_exporter": "python",
   "pygments_lexer": "ipython3",
   "version": "3.11.4"
  }
 },
 "nbformat": 4,
 "nbformat_minor": 1
}
