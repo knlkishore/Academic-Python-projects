{
 "cells": [
  {
   "cell_type": "markdown",
   "metadata": {},
   "source": [
    "# Customer Propensity Analysis using Python #\n",
    "This problem is on Customer Propensity Analysis using multiple Machine Learning Models - Naive Bayes and Logistic Regression. The main objective of this problem is seeing which model gives the best result and finding the optimum prediction model to understand customer behaviour.   \n",
    "There is a dataset from an online portal which gives users' demographic information, their transactional history in the online portal, the price of the item he has viewed and whether the user has ultimately purchased it or not."
   ]
  },
  {
   "cell_type": "code",
   "execution_count": 1,
   "metadata": {},
   "outputs": [
    {
     "ename": "NameError",
     "evalue": "name 'product' is not defined",
     "output_type": "error",
     "traceback": [
      "\u001b[1;31m---------------------------------------------------------------------------\u001b[0m",
      "\u001b[1;31mNameError\u001b[0m                                 Traceback (most recent call last)",
      "Cell \u001b[1;32mIn[1], line 1\u001b[0m\n\u001b[1;32m----> 1\u001b[0m product\u001b[38;5;241m.\u001b[39mhead()\n",
      "\u001b[1;31mNameError\u001b[0m: name 'product' is not defined"
     ]
    }
   ],
   "source": [
    "product.head()"
   ]
  },
  {
   "cell_type": "markdown",
   "metadata": {},
   "source": [
    "So we are seeing that we have data on User_Gender, Marital_status, Price of the item the user has viewed, Number of items he has purchased from the website, total value of the transactions he has done before in the web portal, income of the person and lastly whether the user has purchased the current item or not. There are 11155 records. It is needed to develop a predictive model, which can predict for any new user with the above information (except whether he has purchaed or not) that whether the user will be purchasing or not. \n",
    "We need to perform the following activities in order to solve the problem.\n",
    "\n",
    "### 1. Importing Data\n",
    "### 2. Cleaning, Preparing and Manipulating Data\n",
    "### 3. Training and Testing Different Machine Learning Models\n",
    "### 4. Improving the Models"
   ]
  },
  {
   "cell_type": "markdown",
   "metadata": {},
   "source": [
    "# 1. Importing the Data #\n",
    "First we need to import the data. Before that we need to load some useful libraries. \n",
    "We need to load the library 'sklearn' which gives us the option to work with Random Forest Classifier. The same 'sklearn' library gives us the option to split a dataset into train and test set using 'cross_validation' function.\n",
    "We will be needing to import matplotlib library for doing some plots.\n",
    "We will be needing pandas as it is the basic package for importing a dataset and performing other data-related manipulation activities. \n",
    "We will be using Numpy package for using the arrays.\n",
    "We will be using seaborn package for using heat-map. \n",
    "We will be loading LogisticRegression function from sklearn for fitting Logistic Regression model. We will loading DecisionTreeClassifier function from sklearn for performing Decision Tree classification. We will be loading KNeighboursClassifier from sklearn for performing K-NN classification. We will be loading SVC function for performing Support Vector Machine classification. "
   ]
  },
  {
   "cell_type": "code",
   "execution_count": 2,
   "metadata": {},
   "outputs": [],
   "source": [
    "from matplotlib import pyplot as plt\n",
    "from sklearn.metrics import confusion_matrix\n",
    "import pandas as pd\n",
    "import numpy as np\n",
    "import seaborn as sns"
   ]
  },
  {
   "cell_type": "markdown",
   "metadata": {},
   "source": [
    "We are importing the dataset using 'read_csv' function of Panda library. "
   ]
  },
  {
   "cell_type": "code",
   "execution_count": 3,
   "metadata": {},
   "outputs": [],
   "source": [
    "product = pd.read_csv('PURCHASE.csv')"
   ]
  },
  {
   "cell_type": "markdown",
   "metadata": {},
   "source": [
    "We can see what data has been uploaded in the Python system using 'print' function. "
   ]
  },
  {
   "cell_type": "code",
   "execution_count": 4,
   "metadata": {},
   "outputs": [
    {
     "data": {
      "text/html": [
       "<div>\n",
       "<style scoped>\n",
       "    .dataframe tbody tr th:only-of-type {\n",
       "        vertical-align: middle;\n",
       "    }\n",
       "\n",
       "    .dataframe tbody tr th {\n",
       "        vertical-align: top;\n",
       "    }\n",
       "\n",
       "    .dataframe thead th {\n",
       "        text-align: right;\n",
       "    }\n",
       "</style>\n",
       "<table border=\"1\" class=\"dataframe\">\n",
       "  <thead>\n",
       "    <tr style=\"text-align: right;\">\n",
       "      <th></th>\n",
       "      <th>USER_GENDER</th>\n",
       "      <th>MARITAL</th>\n",
       "      <th>PRICE</th>\n",
       "      <th>NO_ITEMS</th>\n",
       "      <th>PUR_VALUE</th>\n",
       "      <th>USER_INCOME</th>\n",
       "      <th>PURCHASE</th>\n",
       "    </tr>\n",
       "  </thead>\n",
       "  <tbody>\n",
       "    <tr>\n",
       "      <th>0</th>\n",
       "      <td>1</td>\n",
       "      <td>M</td>\n",
       "      <td>25000</td>\n",
       "      <td>0</td>\n",
       "      <td>0</td>\n",
       "      <td>39171</td>\n",
       "      <td>0</td>\n",
       "    </tr>\n",
       "    <tr>\n",
       "      <th>1</th>\n",
       "      <td>1</td>\n",
       "      <td>U</td>\n",
       "      <td>20000</td>\n",
       "      <td>2</td>\n",
       "      <td>21866</td>\n",
       "      <td>249</td>\n",
       "      <td>1</td>\n",
       "    </tr>\n",
       "    <tr>\n",
       "      <th>2</th>\n",
       "      <td>0</td>\n",
       "      <td>U</td>\n",
       "      <td>30000</td>\n",
       "      <td>1</td>\n",
       "      <td>16090</td>\n",
       "      <td>1249</td>\n",
       "      <td>0</td>\n",
       "    </tr>\n",
       "    <tr>\n",
       "      <th>3</th>\n",
       "      <td>0</td>\n",
       "      <td>U</td>\n",
       "      <td>15000</td>\n",
       "      <td>0</td>\n",
       "      <td>0</td>\n",
       "      <td>7247</td>\n",
       "      <td>1</td>\n",
       "    </tr>\n",
       "    <tr>\n",
       "      <th>4</th>\n",
       "      <td>1</td>\n",
       "      <td>U</td>\n",
       "      <td>28000</td>\n",
       "      <td>2</td>\n",
       "      <td>26888</td>\n",
       "      <td>33314</td>\n",
       "      <td>1</td>\n",
       "    </tr>\n",
       "  </tbody>\n",
       "</table>\n",
       "</div>"
      ],
      "text/plain": [
       "   USER_GENDER MARITAL  PRICE  NO_ITEMS  PUR_VALUE  USER_INCOME  PURCHASE\n",
       "0            1       M  25000         0          0        39171         0\n",
       "1            1       U  20000         2      21866          249         1\n",
       "2            0       U  30000         1      16090         1249         0\n",
       "3            0       U  15000         0          0         7247         1\n",
       "4            1       U  28000         2      26888        33314         1"
      ]
     },
     "execution_count": 4,
     "metadata": {},
     "output_type": "execute_result"
    }
   ],
   "source": [
    "product.head()\n"
   ]
  },
  {
   "cell_type": "markdown",
   "metadata": {},
   "source": [
    "If we can see the above data, it means the dataset has been imported correctly. Next we need to move to the next part of our journey, i.e., 'Clean, Prepare and Manipulate the Data'."
   ]
  },
  {
   "cell_type": "markdown",
   "metadata": {},
   "source": [
    "# 2. Cleaning, Preparing and Manipulating the Data #"
   ]
  },
  {
   "cell_type": "markdown",
   "metadata": {},
   "source": [
    "For getting an insight about the dataset, we can get a quick summary about the dataset using 'info' and 'describe()' function."
   ]
  },
  {
   "cell_type": "code",
   "execution_count": 5,
   "metadata": {},
   "outputs": [
    {
     "name": "stdout",
     "output_type": "stream",
     "text": [
      "<class 'pandas.core.frame.DataFrame'>\n",
      "RangeIndex: 11157 entries, 0 to 11156\n",
      "Data columns (total 7 columns):\n",
      " #   Column       Non-Null Count  Dtype \n",
      "---  ------       --------------  ----- \n",
      " 0   USER_GENDER  11157 non-null  int64 \n",
      " 1   MARITAL      11157 non-null  object\n",
      " 2   PRICE        11157 non-null  int64 \n",
      " 3   NO_ITEMS     11157 non-null  int64 \n",
      " 4   PUR_VALUE    11157 non-null  int64 \n",
      " 5   USER_INCOME  11157 non-null  int64 \n",
      " 6   PURCHASE     11157 non-null  int64 \n",
      "dtypes: int64(6), object(1)\n",
      "memory usage: 610.3+ KB\n"
     ]
    }
   ],
   "source": [
    "product.info()"
   ]
  },
  {
   "cell_type": "code",
   "execution_count": 6,
   "metadata": {},
   "outputs": [
    {
     "data": {
      "text/html": [
       "<div>\n",
       "<style scoped>\n",
       "    .dataframe tbody tr th:only-of-type {\n",
       "        vertical-align: middle;\n",
       "    }\n",
       "\n",
       "    .dataframe tbody tr th {\n",
       "        vertical-align: top;\n",
       "    }\n",
       "\n",
       "    .dataframe thead th {\n",
       "        text-align: right;\n",
       "    }\n",
       "</style>\n",
       "<table border=\"1\" class=\"dataframe\">\n",
       "  <thead>\n",
       "    <tr style=\"text-align: right;\">\n",
       "      <th></th>\n",
       "      <th>USER_GENDER</th>\n",
       "      <th>PRICE</th>\n",
       "      <th>NO_ITEMS</th>\n",
       "      <th>PUR_VALUE</th>\n",
       "      <th>USER_INCOME</th>\n",
       "      <th>PURCHASE</th>\n",
       "    </tr>\n",
       "  </thead>\n",
       "  <tbody>\n",
       "    <tr>\n",
       "      <th>count</th>\n",
       "      <td>11157.000000</td>\n",
       "      <td>11157.000000</td>\n",
       "      <td>11157.000000</td>\n",
       "      <td>11157.000000</td>\n",
       "      <td>11157.000000</td>\n",
       "      <td>11157.000000</td>\n",
       "    </tr>\n",
       "    <tr>\n",
       "      <th>mean</th>\n",
       "      <td>0.499149</td>\n",
       "      <td>18241.193869</td>\n",
       "      <td>0.666487</td>\n",
       "      <td>6611.297392</td>\n",
       "      <td>11119.789370</td>\n",
       "      <td>0.331272</td>\n",
       "    </tr>\n",
       "    <tr>\n",
       "      <th>std</th>\n",
       "      <td>0.500022</td>\n",
       "      <td>6915.991488</td>\n",
       "      <td>0.659351</td>\n",
       "      <td>7581.662231</td>\n",
       "      <td>13055.545027</td>\n",
       "      <td>0.470692</td>\n",
       "    </tr>\n",
       "    <tr>\n",
       "      <th>min</th>\n",
       "      <td>0.000000</td>\n",
       "      <td>9000.000000</td>\n",
       "      <td>0.000000</td>\n",
       "      <td>0.000000</td>\n",
       "      <td>0.000000</td>\n",
       "      <td>0.000000</td>\n",
       "    </tr>\n",
       "    <tr>\n",
       "      <th>25%</th>\n",
       "      <td>0.000000</td>\n",
       "      <td>13000.000000</td>\n",
       "      <td>0.000000</td>\n",
       "      <td>0.000000</td>\n",
       "      <td>561.000000</td>\n",
       "      <td>0.000000</td>\n",
       "    </tr>\n",
       "    <tr>\n",
       "      <th>50%</th>\n",
       "      <td>0.000000</td>\n",
       "      <td>16000.000000</td>\n",
       "      <td>1.000000</td>\n",
       "      <td>3505.000000</td>\n",
       "      <td>5724.000000</td>\n",
       "      <td>0.000000</td>\n",
       "    </tr>\n",
       "    <tr>\n",
       "      <th>75%</th>\n",
       "      <td>1.000000</td>\n",
       "      <td>24000.000000</td>\n",
       "      <td>1.000000</td>\n",
       "      <td>12613.000000</td>\n",
       "      <td>18018.000000</td>\n",
       "      <td>1.000000</td>\n",
       "    </tr>\n",
       "    <tr>\n",
       "      <th>max</th>\n",
       "      <td>1.000000</td>\n",
       "      <td>32000.000000</td>\n",
       "      <td>2.000000</td>\n",
       "      <td>29943.000000</td>\n",
       "      <td>49975.000000</td>\n",
       "      <td>1.000000</td>\n",
       "    </tr>\n",
       "  </tbody>\n",
       "</table>\n",
       "</div>"
      ],
      "text/plain": [
       "        USER_GENDER         PRICE      NO_ITEMS     PUR_VALUE   USER_INCOME  \\\n",
       "count  11157.000000  11157.000000  11157.000000  11157.000000  11157.000000   \n",
       "mean       0.499149  18241.193869      0.666487   6611.297392  11119.789370   \n",
       "std        0.500022   6915.991488      0.659351   7581.662231  13055.545027   \n",
       "min        0.000000   9000.000000      0.000000      0.000000      0.000000   \n",
       "25%        0.000000  13000.000000      0.000000      0.000000    561.000000   \n",
       "50%        0.000000  16000.000000      1.000000   3505.000000   5724.000000   \n",
       "75%        1.000000  24000.000000      1.000000  12613.000000  18018.000000   \n",
       "max        1.000000  32000.000000      2.000000  29943.000000  49975.000000   \n",
       "\n",
       "           PURCHASE  \n",
       "count  11157.000000  \n",
       "mean       0.331272  \n",
       "std        0.470692  \n",
       "min        0.000000  \n",
       "25%        0.000000  \n",
       "50%        0.000000  \n",
       "75%        1.000000  \n",
       "max        1.000000  "
      ]
     },
     "execution_count": 6,
     "metadata": {},
     "output_type": "execute_result"
    }
   ],
   "source": [
    "product.describe()"
   ]
  },
  {
   "cell_type": "markdown",
   "metadata": {},
   "source": [
    "We have seen that marital status has been mentioned as 'M' (married) and 'U' umarried. We need to change this to '1' and '0' for further proceeding in our journey. We make the changes and then see what is the updated dataset.  "
   ]
  },
  {
   "cell_type": "code",
   "execution_count": 7,
   "metadata": {},
   "outputs": [
    {
     "data": {
      "text/html": [
       "<div>\n",
       "<style scoped>\n",
       "    .dataframe tbody tr th:only-of-type {\n",
       "        vertical-align: middle;\n",
       "    }\n",
       "\n",
       "    .dataframe tbody tr th {\n",
       "        vertical-align: top;\n",
       "    }\n",
       "\n",
       "    .dataframe thead th {\n",
       "        text-align: right;\n",
       "    }\n",
       "</style>\n",
       "<table border=\"1\" class=\"dataframe\">\n",
       "  <thead>\n",
       "    <tr style=\"text-align: right;\">\n",
       "      <th></th>\n",
       "      <th>USER_GENDER</th>\n",
       "      <th>MARITAL</th>\n",
       "      <th>PRICE</th>\n",
       "      <th>NO_ITEMS</th>\n",
       "      <th>PUR_VALUE</th>\n",
       "      <th>USER_INCOME</th>\n",
       "      <th>PURCHASE</th>\n",
       "    </tr>\n",
       "  </thead>\n",
       "  <tbody>\n",
       "    <tr>\n",
       "      <th>0</th>\n",
       "      <td>1</td>\n",
       "      <td>1</td>\n",
       "      <td>25000</td>\n",
       "      <td>0</td>\n",
       "      <td>0</td>\n",
       "      <td>39171</td>\n",
       "      <td>0</td>\n",
       "    </tr>\n",
       "    <tr>\n",
       "      <th>1</th>\n",
       "      <td>1</td>\n",
       "      <td>0</td>\n",
       "      <td>20000</td>\n",
       "      <td>2</td>\n",
       "      <td>21866</td>\n",
       "      <td>249</td>\n",
       "      <td>1</td>\n",
       "    </tr>\n",
       "    <tr>\n",
       "      <th>2</th>\n",
       "      <td>0</td>\n",
       "      <td>0</td>\n",
       "      <td>30000</td>\n",
       "      <td>1</td>\n",
       "      <td>16090</td>\n",
       "      <td>1249</td>\n",
       "      <td>0</td>\n",
       "    </tr>\n",
       "    <tr>\n",
       "      <th>3</th>\n",
       "      <td>0</td>\n",
       "      <td>0</td>\n",
       "      <td>15000</td>\n",
       "      <td>0</td>\n",
       "      <td>0</td>\n",
       "      <td>7247</td>\n",
       "      <td>1</td>\n",
       "    </tr>\n",
       "    <tr>\n",
       "      <th>4</th>\n",
       "      <td>1</td>\n",
       "      <td>0</td>\n",
       "      <td>28000</td>\n",
       "      <td>2</td>\n",
       "      <td>26888</td>\n",
       "      <td>33314</td>\n",
       "      <td>1</td>\n",
       "    </tr>\n",
       "  </tbody>\n",
       "</table>\n",
       "</div>"
      ],
      "text/plain": [
       "   USER_GENDER  MARITAL  PRICE  NO_ITEMS  PUR_VALUE  USER_INCOME  PURCHASE\n",
       "0            1        1  25000         0          0        39171         0\n",
       "1            1        0  20000         2      21866          249         1\n",
       "2            0        0  30000         1      16090         1249         0\n",
       "3            0        0  15000         0          0         7247         1\n",
       "4            1        0  28000         2      26888        33314         1"
      ]
     },
     "execution_count": 7,
     "metadata": {},
     "output_type": "execute_result"
    }
   ],
   "source": [
    "product = product.replace({'M':1, 'U':0})\n",
    "product.head()"
   ]
  },
  {
   "cell_type": "markdown",
   "metadata": {},
   "source": [
    "We saw that 'M' and 'U' under martital status column has been converted to 1 and 0.\n",
    "Now, we need to check whether there is any missing value in the data or not. \n",
    "For that we will be using the following code. "
   ]
  },
  {
   "cell_type": "code",
   "execution_count": 8,
   "metadata": {},
   "outputs": [
    {
     "data": {
      "text/plain": [
       "USER_GENDER    0\n",
       "MARITAL        0\n",
       "PRICE          0\n",
       "NO_ITEMS       0\n",
       "PUR_VALUE      0\n",
       "USER_INCOME    0\n",
       "PURCHASE       0\n",
       "dtype: int64"
      ]
     },
     "execution_count": 8,
     "metadata": {},
     "output_type": "execute_result"
    }
   ],
   "source": [
    "product.isnull().sum(axis = 0)"
   ]
  },
  {
   "cell_type": "markdown",
   "metadata": {},
   "source": [
    "We find that there are no missing value in the data and hence we should not be bothered about this. We can use the dataset for further processing. "
   ]
  },
  {
   "cell_type": "markdown",
   "metadata": {},
   "source": [
    "## 3. Training and Testing Different ML Models ##\n",
    "We have got some idea about the dataset by now. \n",
    "Now the time has come for building the model. \n",
    "Before building the model, we need create 2 arrays X and Y where X will be for the independent variables and Y will be fore the dependent variable (PURCHASE). "
   ]
  },
  {
   "cell_type": "code",
   "execution_count": 9,
   "metadata": {},
   "outputs": [],
   "source": [
    "X = np.array(product[['USER_GENDER', 'MARITAL', 'PRICE', \n",
    "                      'NO_ITEMS', 'PUR_VALUE', 'USER_INCOME']])\n",
    "Y = np.array(product[['PURCHASE']])"
   ]
  },
  {
   "cell_type": "markdown",
   "metadata": {},
   "source": [
    "In order to develop a machine learning model, it is needed to have a test dataset on which you will be checking how much accurate your model is. If you utilize the whole dataset for developing your model, then there will be no data for testing. Hence, it is a norm to bifurcate the dataset into train set and test set. We need to develop the model using the train set and test the accuracy of the model using the test set. \n",
    "Hence, we will be creating 4 arrays X_train, X_test, Y_train and Y_test for developing our  model. "
   ]
  },
  {
   "cell_type": "code",
   "execution_count": 10,
   "metadata": {},
   "outputs": [],
   "source": [
    "from sklearn import model_selection\n",
    "\n",
    "X_train, X_test, Y_train, Y_test = model_selection.\\\n",
    "train_test_split(X, Y, test_size=0.2, random_state=25)"
   ]
  },
  {
   "cell_type": "markdown",
   "metadata": {},
   "source": [
    "Now we will be fitting the Naive Bayes on the training dataset and check the accuracy of the Naive Bayes model using the Test Dataset. \n",
    "\n",
    "#### Naive Bayes Model"
   ]
  },
  {
   "cell_type": "code",
   "execution_count": 16,
   "metadata": {
    "scrolled": true
   },
   "outputs": [
    {
     "name": "stdout",
     "output_type": "stream",
     "text": [
      "Naive bayes Accuracy Score = 73.16308243727599\n"
     ]
    },
    {
     "name": "stderr",
     "output_type": "stream",
     "text": [
      "/home/manu/.local/lib/python3.8/site-packages/sklearn/utils/validation.py:985: DataConversionWarning: A column-vector y was passed when a 1d array was expected. Please change the shape of y to (n_samples, ), for example using ravel().\n",
      "  y = column_or_1d(y, warn=True)\n"
     ]
    }
   ],
   "source": [
    "#Naive bayes\n",
    "#Training Model\n",
    "from sklearn.naive_bayes import GaussianNB\n",
    "nb=GaussianNB()\n",
    "nb.fit(X_train, Y_train)\n",
    "#option 1\n",
    "#Testing Model\n",
    "y_pred = nb.predict(X_test)\n",
    "from sklearn.metrics import accuracy_score\n",
    "print(\"Naive bayes Accuracy Score =\", accuracy_score(Y_test, y_pred)*100)\n",
    "\n",
    "#option 2\n",
    "#print(\"Naive bayes Accuracy Score =\",nb.score(X_test,Y_test)*100)"
   ]
  },
  {
   "cell_type": "markdown",
   "metadata": {},
   "source": [
    "We have got 73.16% accuracy from the Naive Bayes. Now let us check some other models. \n",
    "Next we will be checking Logistic Model. \n",
    "\n",
    "#### Logistic Regression Model"
   ]
  },
  {
   "cell_type": "code",
   "execution_count": 17,
   "metadata": {},
   "outputs": [
    {
     "name": "stdout",
     "output_type": "stream",
     "text": [
      "Logistic Regression Accuracy Score = 66.084229390681\n"
     ]
    },
    {
     "name": "stderr",
     "output_type": "stream",
     "text": [
      "/home/manu/.local/lib/python3.8/site-packages/sklearn/utils/validation.py:985: DataConversionWarning: A column-vector y was passed when a 1d array was expected. Please change the shape of y to (n_samples, ), for example using ravel().\n",
      "  y = column_or_1d(y, warn=True)\n"
     ]
    }
   ],
   "source": [
    "#Logistic Regression\n",
    "#Training Model\n",
    "from sklearn.linear_model import LogisticRegression\n",
    "\n",
    "log_reg = LogisticRegression()\n",
    "log_reg.fit(X_train, Y_train)\n",
    "#option 1\n",
    "#Testing Model\n",
    "y_pred = log_reg.predict(X_test)\n",
    "from sklearn.metrics import accuracy_score\n",
    "print(\"Logistic Regression Accuracy Score =\", accuracy_score(Y_test, y_pred)*100)\n",
    "\n",
    "#option 2\n",
    "#print(\"Logistic Regression Accuracy Score =\",log_reg.score(X_test,Y_test)*100)"
   ]
  },
  {
   "cell_type": "markdown",
   "metadata": {},
   "source": [
    "We received accuracy of logistic regression model to be 66% which is very less.\n"
   ]
  },
  {
   "cell_type": "markdown",
   "metadata": {},
   "source": [
    "Before building an appropriate model, we first need to see whether there is any multicollinearity in the data (independent variables) or not. If there is multi-collinearity in the data, it will increase the variance and ultimately it will lead to lesser accuracy. So we need to check the correlation matrix for the independent variables. \n",
    "For that we will first create a new dataframe 'product1' having only the independent variables. "
   ]
  },
  {
   "cell_type": "code",
   "execution_count": 18,
   "metadata": {},
   "outputs": [
    {
     "name": "stdout",
     "output_type": "stream",
     "text": [
      "<class 'pandas.core.frame.DataFrame'>\n",
      "RangeIndex: 11157 entries, 0 to 11156\n",
      "Data columns (total 6 columns):\n",
      " #   Column       Non-Null Count  Dtype\n",
      "---  ------       --------------  -----\n",
      " 0   USER_GENDER  11157 non-null  int64\n",
      " 1   MARITAL      11157 non-null  int64\n",
      " 2   PRICE        11157 non-null  int64\n",
      " 3   NO_ITEMS     11157 non-null  int64\n",
      " 4   PUR_VALUE    11157 non-null  int64\n",
      " 5   USER_INCOME  11157 non-null  int64\n",
      "dtypes: int64(6)\n",
      "memory usage: 523.1 KB\n"
     ]
    }
   ],
   "source": [
    "product1 = product.iloc[:,:-1]\n",
    "product1.info()"
   ]
  },
  {
   "cell_type": "markdown",
   "metadata": {},
   "source": [
    "# We are creating a correlation matrix for 'product1'. "
   ]
  },
  {
   "cell_type": "code",
   "execution_count": 19,
   "metadata": {},
   "outputs": [
    {
     "data": {
      "text/html": [
       "<div>\n",
       "<style scoped>\n",
       "    .dataframe tbody tr th:only-of-type {\n",
       "        vertical-align: middle;\n",
       "    }\n",
       "\n",
       "    .dataframe tbody tr th {\n",
       "        vertical-align: top;\n",
       "    }\n",
       "\n",
       "    .dataframe thead th {\n",
       "        text-align: right;\n",
       "    }\n",
       "</style>\n",
       "<table border=\"1\" class=\"dataframe\">\n",
       "  <thead>\n",
       "    <tr style=\"text-align: right;\">\n",
       "      <th></th>\n",
       "      <th>USER_GENDER</th>\n",
       "      <th>MARITAL</th>\n",
       "      <th>PRICE</th>\n",
       "      <th>NO_ITEMS</th>\n",
       "      <th>PUR_VALUE</th>\n",
       "      <th>USER_INCOME</th>\n",
       "    </tr>\n",
       "  </thead>\n",
       "  <tbody>\n",
       "    <tr>\n",
       "      <th>USER_GENDER</th>\n",
       "      <td>1.000000</td>\n",
       "      <td>0.004660</td>\n",
       "      <td>0.008056</td>\n",
       "      <td>0.008791</td>\n",
       "      <td>0.006565</td>\n",
       "      <td>0.481271</td>\n",
       "    </tr>\n",
       "    <tr>\n",
       "      <th>MARITAL</th>\n",
       "      <td>0.004660</td>\n",
       "      <td>1.000000</td>\n",
       "      <td>0.006684</td>\n",
       "      <td>0.011311</td>\n",
       "      <td>0.014041</td>\n",
       "      <td>0.047655</td>\n",
       "    </tr>\n",
       "    <tr>\n",
       "      <th>PRICE</th>\n",
       "      <td>0.008056</td>\n",
       "      <td>0.006684</td>\n",
       "      <td>1.000000</td>\n",
       "      <td>0.011312</td>\n",
       "      <td>0.017037</td>\n",
       "      <td>-0.002404</td>\n",
       "    </tr>\n",
       "    <tr>\n",
       "      <th>NO_ITEMS</th>\n",
       "      <td>0.008791</td>\n",
       "      <td>0.011311</td>\n",
       "      <td>0.011312</td>\n",
       "      <td>1.000000</td>\n",
       "      <td>0.810733</td>\n",
       "      <td>-0.001251</td>\n",
       "    </tr>\n",
       "    <tr>\n",
       "      <th>PUR_VALUE</th>\n",
       "      <td>0.006565</td>\n",
       "      <td>0.014041</td>\n",
       "      <td>0.017037</td>\n",
       "      <td>0.810733</td>\n",
       "      <td>1.000000</td>\n",
       "      <td>-0.000900</td>\n",
       "    </tr>\n",
       "    <tr>\n",
       "      <th>USER_INCOME</th>\n",
       "      <td>0.481271</td>\n",
       "      <td>0.047655</td>\n",
       "      <td>-0.002404</td>\n",
       "      <td>-0.001251</td>\n",
       "      <td>-0.000900</td>\n",
       "      <td>1.000000</td>\n",
       "    </tr>\n",
       "  </tbody>\n",
       "</table>\n",
       "</div>"
      ],
      "text/plain": [
       "             USER_GENDER   MARITAL     PRICE  NO_ITEMS  PUR_VALUE  USER_INCOME\n",
       "USER_GENDER     1.000000  0.004660  0.008056  0.008791   0.006565     0.481271\n",
       "MARITAL         0.004660  1.000000  0.006684  0.011311   0.014041     0.047655\n",
       "PRICE           0.008056  0.006684  1.000000  0.011312   0.017037    -0.002404\n",
       "NO_ITEMS        0.008791  0.011311  0.011312  1.000000   0.810733    -0.001251\n",
       "PUR_VALUE       0.006565  0.014041  0.017037  0.810733   1.000000    -0.000900\n",
       "USER_INCOME     0.481271  0.047655 -0.002404 -0.001251  -0.000900     1.000000"
      ]
     },
     "execution_count": 19,
     "metadata": {},
     "output_type": "execute_result"
    }
   ],
   "source": [
    "product1.corr()"
   ]
  },
  {
   "cell_type": "markdown",
   "metadata": {},
   "source": [
    "From the correlation matrix, we are finding that Number of items and Purchase value are highly correlated. Let us create a heat-map which will give a better picture of the multi-collinearity. "
   ]
  },
  {
   "cell_type": "code",
   "execution_count": 20,
   "metadata": {
    "scrolled": true
   },
   "outputs": [
    {
     "data": {
      "image/png": "[encoded data removed]",
      "text/plain": [
       "<Figure size 432x288 with 2 Axes>"
      ]
     },
     "metadata": {
      "needs_background": "light"
     },
     "output_type": "display_data"
    }
   ],
   "source": [
    "sns.heatmap(product1.corr(),annot = True,cmap='Reds')\n",
    "plt.show()"
   ]
  },
  {
   "cell_type": "markdown",
   "metadata": {},
   "source": [
    "The heat-map also tells that there are high correlation between Purchase Value and Number of items. From here we are also getting an idea that some correlation is there between user gender and user income. We can definitely consider one of the variable among the two - Purchase Value and Number of Items."
   ]
  },
  {
   "cell_type": "markdown",
   "metadata": {},
   "source": [
    "## 4. Improving the Models ##\n",
    "We have seen Purchase Value and Number of items purchased are highly correlated. \n",
    "Hence, we are removing one variable (Purchase Value) and number of items (NO_ITEMS) is used as the independent varaible.\n",
    "We follow the same process as before. \n",
    "We also have seen that in case of user income there are some outliers in the model and we have not treated those outliers. Hence, for the time-being, we are not considering the user income as independent variable and fitting the model without using that. "
   ]
  },
  {
   "cell_type": "code",
   "execution_count": 22,
   "metadata": {
    "scrolled": true
   },
   "outputs": [
    {
     "name": "stdout",
     "output_type": "stream",
     "text": [
      "Naive Bayes Accuracy Score = 76.7921146953405\n",
      "Logistic Regression Accuracy Score = 65.3673835125448\n"
     ]
    },
    {
     "name": "stderr",
     "output_type": "stream",
     "text": [
      "/home/manu/.local/lib/python3.8/site-packages/sklearn/utils/validation.py:985: DataConversionWarning: A column-vector y was passed when a 1d array was expected. Please change the shape of y to (n_samples, ), for example using ravel().\n",
      "  y = column_or_1d(y, warn=True)\n",
      "/home/manu/.local/lib/python3.8/site-packages/sklearn/utils/validation.py:985: DataConversionWarning: A column-vector y was passed when a 1d array was expected. Please change the shape of y to (n_samples, ), for example using ravel().\n",
      "  y = column_or_1d(y, warn=True)\n"
     ]
    }
   ],
   "source": [
    "\n",
    "from sklearn.naive_bayes import GaussianNB\n",
    "\n",
    "X1 = np.array(product[['USER_GENDER','MARITAL','PRICE',\n",
    "                       'NO_ITEMS', 'USER_INCOME']])\n",
    "X1_train, X1_test, Y_train, Y_test = model_selection.train_test_split(X1, Y, test_size=0.2, random_state=25)\n",
    "#Naive Bayes\n",
    "nb=GaussianNB()\n",
    "nb.fit(X1_train, Y_train)\n",
    "print(\"Naive Bayes Accuracy Score =\",nb.score(X1_test,Y_test)*100)\n",
    "\n",
    "\n",
    "#Logistic Regression\n",
    "#Training Model\n",
    "log_reg = LogisticRegression()\n",
    "log_reg.fit(X1_train, Y_train)\n",
    "#Testing Model\n",
    "print(\"Logistic Regression Accuracy Score =\", log_reg.score(X1_test, Y_test)*100)\n"
   ]
  },
  {
   "cell_type": "markdown",
   "metadata": {},
   "source": [
    "We will now see the impact of feature scaling in the model. "
   ]
  },
  {
   "cell_type": "code",
   "execution_count": 23,
   "metadata": {},
   "outputs": [
    {
     "name": "stdout",
     "output_type": "stream",
     "text": [
      "Naive Bayes Accuracy Score = 76.7921146953405\n",
      "Logistic Regression Accuracy Score = 76.7921146953405\n"
     ]
    },
    {
     "name": "stderr",
     "output_type": "stream",
     "text": [
      "/home/manu/.local/lib/python3.8/site-packages/sklearn/utils/validation.py:985: DataConversionWarning: A column-vector y was passed when a 1d array was expected. Please change the shape of y to (n_samples, ), for example using ravel().\n",
      "  y = column_or_1d(y, warn=True)\n",
      "/home/manu/.local/lib/python3.8/site-packages/sklearn/utils/validation.py:985: DataConversionWarning: A column-vector y was passed when a 1d array was expected. Please change the shape of y to (n_samples, ), for example using ravel().\n",
      "  y = column_or_1d(y, warn=True)\n"
     ]
    }
   ],
   "source": [
    "X2 = np.array(product[['USER_GENDER','MARITAL','PRICE', \n",
    "                       'NO_ITEMS', 'USER_INCOME']])\n",
    "\n",
    "from sklearn.preprocessing import StandardScaler\n",
    "scaler = StandardScaler()\n",
    "#option 1\n",
    "scaler.fit(X2)\n",
    "X2 = scaler.transform(X2) \n",
    "#print(X2)\n",
    "\n",
    "X2_train, X2_test, Y_train, Y_test = model_selection.\\\n",
    "train_test_split(X2, Y, test_size=0.2, random_state=25)\n",
    "#Naive Bayes\n",
    "nb=GaussianNB()\n",
    "nb.fit(X2_train, Y_train)\n",
    "print(\"Naive Bayes Accuracy Score =\",nb.score(X2_test,Y_test)*100)\n",
    "\n",
    "\n",
    "#Logistic Regression\n",
    "#Training Model\n",
    "log_reg = LogisticRegression()\n",
    "log_reg.fit(X2_train, Y_train)\n",
    "#Testing Model\n",
    "print(\"Logistic Regression Accuracy Score =\", log_reg.score(X2_test,\n",
    "                                                            Y_test)*100)\n"
   ]
  },
  {
   "cell_type": "code",
   "execution_count": 24,
   "metadata": {},
   "outputs": [
    {
     "name": "stdout",
     "output_type": "stream",
     "text": [
      "Naive Bayes Accuracy Score = 76.7921146953405\n",
      "Logistic Regression Accuracy Score = 76.7921146953405\n"
     ]
    },
    {
     "name": "stderr",
     "output_type": "stream",
     "text": [
      "/home/manu/.local/lib/python3.8/site-packages/sklearn/utils/validation.py:985: DataConversionWarning: A column-vector y was passed when a 1d array was expected. Please change the shape of y to (n_samples, ), for example using ravel().\n",
      "  y = column_or_1d(y, warn=True)\n",
      "/home/manu/.local/lib/python3.8/site-packages/sklearn/utils/validation.py:985: DataConversionWarning: A column-vector y was passed when a 1d array was expected. Please change the shape of y to (n_samples, ), for example using ravel().\n",
      "  y = column_or_1d(y, warn=True)\n"
     ]
    }
   ],
   "source": [
    "\n",
    "X3 = np.array(product[['USER_GENDER','MARITAL','PRICE',\n",
    "                       'NO_ITEMS', 'USER_INCOME']])\n",
    "\n",
    "from sklearn.preprocessing import MinMaxScaler\n",
    "scaler = MinMaxScaler()\n",
    "#option 1\n",
    "scaler.fit(X3)\n",
    "X3 = scaler.transform(X3) \n",
    "\n",
    "X3_train, X3_test, Y_train, Y_test = model_selection.\\\n",
    "train_test_split(X3, Y, test_size=0.2, random_state=25)\n",
    "#Naive Bayes\n",
    "nb=GaussianNB()\n",
    "nb.fit(X3_train, Y_train)\n",
    "print(\"Naive Bayes Accuracy Score =\",nb.score(X3_test,Y_test)*100)\n",
    "\n",
    "\n",
    "#Logistic Regression\n",
    "#Training Model\n",
    "log_reg = LogisticRegression()\n",
    "log_reg.fit(X3_train, Y_train)\n",
    "#Testing Model\n",
    "print(\"Logistic Regression Accuracy Score =\", log_reg.score(X3_test, Y_test)*100)"
   ]
  },
  {
   "cell_type": "markdown",
   "metadata": {},
   "source": [
    "# ROC-AUC analysis.."
   ]
  },
  {
   "cell_type": "code",
   "execution_count": 25,
   "metadata": {},
   "outputs": [],
   "source": [
    "probs1 = log_reg.predict_proba(X2_test)\n",
    "probs2 = nb.predict_proba(X2_test)"
   ]
  },
  {
   "cell_type": "code",
   "execution_count": 26,
   "metadata": {},
   "outputs": [],
   "source": [
    "probs1 = probs1[:, 1]\n",
    "probs2 = probs2[:, 1]"
   ]
  },
  {
   "cell_type": "code",
   "execution_count": 27,
   "metadata": {},
   "outputs": [
    {
     "name": "stdout",
     "output_type": "stream",
     "text": [
      "AUC=Logistic: 0.66\n",
      "AUC=NB: 0.67\n"
     ]
    }
   ],
   "source": [
    "from sklearn.metrics import roc_auc_score\n",
    "auc1 = roc_auc_score(Y_test, probs1)\n",
    "auc2 = roc_auc_score(Y_test, probs2)\n",
    "print('AUC=Logistic: %.2f' % auc1)\n",
    "print('AUC=NB: %.2f' % auc2)"
   ]
  },
  {
   "cell_type": "code",
   "execution_count": null,
   "metadata": {},
   "outputs": [],
   "source": []
  }
 ],
 "metadata": {
  "kernelspec": {
   "display_name": "Python 3 (ipykernel)",
   "language": "python",
   "name": "python3"
  },
  "language_info": {
   "codemirror_mode": {
    "name": "ipython",
    "version": 3
   },
   "file_extension": ".py",
   "mimetype": "text/x-python",
   "name": "python",
   "nbconvert_exporter": "python",
   "pygments_lexer": "ipython3",
   "version": "3.11.4"
  }
 },
 "nbformat": 4,
 "nbformat_minor": 4
}
