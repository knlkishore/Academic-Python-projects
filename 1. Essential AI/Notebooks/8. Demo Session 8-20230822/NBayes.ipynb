{
 "cells": [
  {
   "cell_type": "code",
   "execution_count": 2,
   "metadata": {
    "id": "TuMyoMlgRHvn"
   },
   "outputs": [],
   "source": [
    "import numpy as np\n",
    "import pandas as pd\n",
    "import matplotlib.pyplot as plt\n",
    "import seaborn as sns\n",
    "%matplotlib inline"
   ]
  },
  {
   "cell_type": "code",
   "execution_count": 3,
   "metadata": {
    "colab": {
     "base_uri": "https://localhost:8080/",
     "height": 198
    },
    "id": "nqibAbc5Sj9a",
    "outputId": "be12687c-2c67-4ece-f637-a9fa50393153"
   },
   "outputs": [
    {
     "data": {
      "text/html": [
       "<div>\n",
       "<style scoped>\n",
       "    .dataframe tbody tr th:only-of-type {\n",
       "        vertical-align: middle;\n",
       "    }\n",
       "\n",
       "    .dataframe tbody tr th {\n",
       "        vertical-align: top;\n",
       "    }\n",
       "\n",
       "    .dataframe thead th {\n",
       "        text-align: right;\n",
       "    }\n",
       "</style>\n",
       "<table border=\"1\" class=\"dataframe\">\n",
       "  <thead>\n",
       "    <tr style=\"text-align: right;\">\n",
       "      <th></th>\n",
       "      <th>sepal.length</th>\n",
       "      <th>sepal.width</th>\n",
       "      <th>petal.length</th>\n",
       "      <th>petal.width</th>\n",
       "      <th>variety</th>\n",
       "    </tr>\n",
       "  </thead>\n",
       "  <tbody>\n",
       "    <tr>\n",
       "      <th>0</th>\n",
       "      <td>5.1</td>\n",
       "      <td>3.5</td>\n",
       "      <td>1.4</td>\n",
       "      <td>0.2</td>\n",
       "      <td>Setosa</td>\n",
       "    </tr>\n",
       "    <tr>\n",
       "      <th>1</th>\n",
       "      <td>4.9</td>\n",
       "      <td>3.0</td>\n",
       "      <td>1.4</td>\n",
       "      <td>0.2</td>\n",
       "      <td>Setosa</td>\n",
       "    </tr>\n",
       "    <tr>\n",
       "      <th>2</th>\n",
       "      <td>4.7</td>\n",
       "      <td>3.2</td>\n",
       "      <td>1.3</td>\n",
       "      <td>0.2</td>\n",
       "      <td>Setosa</td>\n",
       "    </tr>\n",
       "    <tr>\n",
       "      <th>3</th>\n",
       "      <td>4.6</td>\n",
       "      <td>3.1</td>\n",
       "      <td>1.5</td>\n",
       "      <td>0.2</td>\n",
       "      <td>Setosa</td>\n",
       "    </tr>\n",
       "    <tr>\n",
       "      <th>4</th>\n",
       "      <td>5.0</td>\n",
       "      <td>3.6</td>\n",
       "      <td>1.4</td>\n",
       "      <td>0.2</td>\n",
       "      <td>Setosa</td>\n",
       "    </tr>\n",
       "  </tbody>\n",
       "</table>\n",
       "</div>"
      ],
      "text/plain": [
       "   sepal.length  sepal.width  petal.length  petal.width variety\n",
       "0           5.1          3.5           1.4          0.2  Setosa\n",
       "1           4.9          3.0           1.4          0.2  Setosa\n",
       "2           4.7          3.2           1.3          0.2  Setosa\n",
       "3           4.6          3.1           1.5          0.2  Setosa\n",
       "4           5.0          3.6           1.4          0.2  Setosa"
      ]
     },
     "execution_count": 3,
     "metadata": {},
     "output_type": "execute_result"
    }
   ],
   "source": [
    "iris = pd.read_csv(\"iris.csv\")\n",
    "iris.shape\n",
    "iris.head()"
   ]
  },
  {
   "cell_type": "code",
   "execution_count": 4,
   "metadata": {
    "colab": {
     "base_uri": "https://localhost:8080/"
    },
    "id": "PxW8GzHhVEMJ",
    "outputId": "008a579a-2a23-40e1-abb7-ebac25447600"
   },
   "outputs": [
    {
     "name": "stdout",
     "output_type": "stream",
     "text": [
      "[[5.1 0.2]\n",
      " [4.9 0.2]\n",
      " [4.7 0.2]\n",
      " [4.6 0.2]\n",
      " [5.  0.2]\n",
      " [5.4 0.4]\n",
      " [4.6 0.3]\n",
      " [5.  0.2]\n",
      " [4.4 0.2]\n",
      " [4.9 0.1]\n",
      " [5.4 0.2]\n",
      " [4.8 0.2]\n",
      " [4.8 0.1]\n",
      " [4.3 0.1]\n",
      " [5.8 0.2]\n",
      " [5.7 0.4]\n",
      " [5.4 0.4]\n",
      " [5.1 0.3]\n",
      " [5.7 0.3]\n",
      " [5.1 0.3]\n",
      " [5.4 0.2]\n",
      " [5.1 0.4]\n",
      " [4.6 0.2]\n",
      " [5.1 0.5]\n",
      " [4.8 0.2]\n",
      " [5.  0.2]\n",
      " [5.  0.4]\n",
      " [5.2 0.2]\n",
      " [5.2 0.2]\n",
      " [4.7 0.2]\n",
      " [4.8 0.2]\n",
      " [5.4 0.4]\n",
      " [5.2 0.1]\n",
      " [5.5 0.2]\n",
      " [4.9 0.2]\n",
      " [5.  0.2]\n",
      " [5.5 0.2]\n",
      " [4.9 0.1]\n",
      " [4.4 0.2]\n",
      " [5.1 0.2]\n",
      " [5.  0.3]\n",
      " [4.5 0.3]\n",
      " [4.4 0.2]\n",
      " [5.  0.6]\n",
      " [5.1 0.4]\n",
      " [4.8 0.3]\n",
      " [5.1 0.2]\n",
      " [4.6 0.2]\n",
      " [5.3 0.2]\n",
      " [5.  0.2]\n",
      " [7.  1.4]\n",
      " [6.4 1.5]\n",
      " [6.9 1.5]\n",
      " [5.5 1.3]\n",
      " [6.5 1.5]\n",
      " [5.7 1.3]\n",
      " [6.3 1.6]\n",
      " [4.9 1. ]\n",
      " [6.6 1.3]\n",
      " [5.2 1.4]\n",
      " [5.  1. ]\n",
      " [5.9 1.5]\n",
      " [6.  1. ]\n",
      " [6.1 1.4]\n",
      " [5.6 1.3]\n",
      " [6.7 1.4]\n",
      " [5.6 1.5]\n",
      " [5.8 1. ]\n",
      " [6.2 1.5]\n",
      " [5.6 1.1]\n",
      " [5.9 1.8]\n",
      " [6.1 1.3]\n",
      " [6.3 1.5]\n",
      " [6.1 1.2]\n",
      " [6.4 1.3]\n",
      " [6.6 1.4]\n",
      " [6.8 1.4]\n",
      " [6.7 1.7]\n",
      " [6.  1.5]\n",
      " [5.7 1. ]\n",
      " [5.5 1.1]\n",
      " [5.5 1. ]\n",
      " [5.8 1.2]\n",
      " [6.  1.6]\n",
      " [5.4 1.5]\n",
      " [6.  1.6]\n",
      " [6.7 1.5]\n",
      " [6.3 1.3]\n",
      " [5.6 1.3]\n",
      " [5.5 1.3]\n",
      " [5.5 1.2]\n",
      " [6.1 1.4]\n",
      " [5.8 1.2]\n",
      " [5.  1. ]\n",
      " [5.6 1.3]\n",
      " [5.7 1.2]\n",
      " [5.7 1.3]\n",
      " [6.2 1.3]\n",
      " [5.1 1.1]\n",
      " [5.7 1.3]\n",
      " [6.3 2.5]\n",
      " [5.8 1.9]\n",
      " [7.1 2.1]\n",
      " [6.3 1.8]\n",
      " [6.5 2.2]\n",
      " [7.6 2.1]\n",
      " [4.9 1.7]\n",
      " [7.3 1.8]\n",
      " [6.7 1.8]\n",
      " [7.2 2.5]\n",
      " [6.5 2. ]\n",
      " [6.4 1.9]\n",
      " [6.8 2.1]\n",
      " [5.7 2. ]\n",
      " [5.8 2.4]\n",
      " [6.4 2.3]\n",
      " [6.5 1.8]\n",
      " [7.7 2.2]\n",
      " [7.7 2.3]\n",
      " [6.  1.5]\n",
      " [6.9 2.3]\n",
      " [5.6 2. ]\n",
      " [7.7 2. ]\n",
      " [6.3 1.8]\n",
      " [6.7 2.1]\n",
      " [7.2 1.8]\n",
      " [6.2 1.8]\n",
      " [6.1 1.8]\n",
      " [6.4 2.1]\n",
      " [7.2 1.6]\n",
      " [7.4 1.9]\n",
      " [7.9 2. ]\n",
      " [6.4 2.2]\n",
      " [6.3 1.5]\n",
      " [6.1 1.4]\n",
      " [7.7 2.3]\n",
      " [6.3 2.4]\n",
      " [6.4 1.8]\n",
      " [6.  1.8]\n",
      " [6.9 2.1]\n",
      " [6.7 2.4]\n",
      " [6.9 2.3]\n",
      " [5.8 1.9]\n",
      " [6.8 2.3]\n",
      " [6.7 2.5]\n",
      " [6.7 2.3]\n",
      " [6.3 1.9]\n",
      " [6.5 2. ]\n",
      " [6.2 2.3]\n",
      " [5.9 1.8]]\n",
      "['Setosa' 'Setosa' 'Setosa' 'Setosa' 'Setosa' 'Setosa' 'Setosa' 'Setosa'\n",
      " 'Setosa' 'Setosa' 'Setosa' 'Setosa' 'Setosa' 'Setosa' 'Setosa' 'Setosa'\n",
      " 'Setosa' 'Setosa' 'Setosa' 'Setosa' 'Setosa' 'Setosa' 'Setosa' 'Setosa'\n",
      " 'Setosa' 'Setosa' 'Setosa' 'Setosa' 'Setosa' 'Setosa' 'Setosa' 'Setosa'\n",
      " 'Setosa' 'Setosa' 'Setosa' 'Setosa' 'Setosa' 'Setosa' 'Setosa' 'Setosa'\n",
      " 'Setosa' 'Setosa' 'Setosa' 'Setosa' 'Setosa' 'Setosa' 'Setosa' 'Setosa'\n",
      " 'Setosa' 'Setosa' 'Versicolor' 'Versicolor' 'Versicolor' 'Versicolor'\n",
      " 'Versicolor' 'Versicolor' 'Versicolor' 'Versicolor' 'Versicolor'\n",
      " 'Versicolor' 'Versicolor' 'Versicolor' 'Versicolor' 'Versicolor'\n",
      " 'Versicolor' 'Versicolor' 'Versicolor' 'Versicolor' 'Versicolor'\n",
      " 'Versicolor' 'Versicolor' 'Versicolor' 'Versicolor' 'Versicolor'\n",
      " 'Versicolor' 'Versicolor' 'Versicolor' 'Versicolor' 'Versicolor'\n",
      " 'Versicolor' 'Versicolor' 'Versicolor' 'Versicolor' 'Versicolor'\n",
      " 'Versicolor' 'Versicolor' 'Versicolor' 'Versicolor' 'Versicolor'\n",
      " 'Versicolor' 'Versicolor' 'Versicolor' 'Versicolor' 'Versicolor'\n",
      " 'Versicolor' 'Versicolor' 'Versicolor' 'Versicolor' 'Versicolor'\n",
      " 'Versicolor' 'Virginica' 'Virginica' 'Virginica' 'Virginica' 'Virginica'\n",
      " 'Virginica' 'Virginica' 'Virginica' 'Virginica' 'Virginica' 'Virginica'\n",
      " 'Virginica' 'Virginica' 'Virginica' 'Virginica' 'Virginica' 'Virginica'\n",
      " 'Virginica' 'Virginica' 'Virginica' 'Virginica' 'Virginica' 'Virginica'\n",
      " 'Virginica' 'Virginica' 'Virginica' 'Virginica' 'Virginica' 'Virginica'\n",
      " 'Virginica' 'Virginica' 'Virginica' 'Virginica' 'Virginica' 'Virginica'\n",
      " 'Virginica' 'Virginica' 'Virginica' 'Virginica' 'Virginica' 'Virginica'\n",
      " 'Virginica' 'Virginica' 'Virginica' 'Virginica' 'Virginica' 'Virginica'\n",
      " 'Virginica' 'Virginica' 'Virginica']\n"
     ]
    }
   ],
   "source": [
    "# input\n",
    "x = iris.iloc[:, [0, 3]].values\n",
    "  \n",
    "# output\n",
    "y = iris.iloc[:, 4].values\n",
    "print(x)\n",
    "print(y)"
   ]
  },
  {
   "cell_type": "code",
   "execution_count": 4,
   "metadata": {
    "id": "5Lvl3iV3VcXc"
   },
   "outputs": [],
   "source": [
    "from sklearn.model_selection import train_test_split\n",
    "xtrain, xtest, ytrain, ytest = train_test_split(x, y, test_size = 0.60, random_state = 0)"
   ]
  },
  {
   "cell_type": "code",
   "execution_count": 5,
   "metadata": {
    "colab": {
     "base_uri": "https://localhost:8080/"
    },
    "id": "hR4stIS2U6FL",
    "outputId": "df814051-5cb4-4912-e686-f4c6ca4d2a93"
   },
   "outputs": [
    {
     "name": "stdout",
     "output_type": "stream",
     "text": [
      "['Virginica' 'Versicolor' 'Setosa' 'Virginica' 'Setosa' 'Virginica'\n",
      " 'Setosa' 'Versicolor' 'Versicolor' 'Versicolor' 'Virginica' 'Versicolor'\n",
      " 'Versicolor' 'Versicolor' 'Versicolor' 'Setosa' 'Versicolor' 'Versicolor'\n",
      " 'Setosa' 'Setosa' 'Virginica' 'Versicolor' 'Setosa' 'Setosa' 'Virginica'\n",
      " 'Setosa' 'Setosa' 'Versicolor' 'Versicolor' 'Setosa' 'Virginica'\n",
      " 'Versicolor' 'Setosa' 'Virginica' 'Virginica' 'Versicolor' 'Setosa'\n",
      " 'Versicolor' 'Versicolor' 'Versicolor' 'Virginica' 'Setosa' 'Virginica'\n",
      " 'Setosa' 'Setosa' 'Versicolor' 'Virginica' 'Virginica' 'Virginica'\n",
      " 'Virginica' 'Versicolor' 'Virginica' 'Versicolor' 'Versicolor'\n",
      " 'Virginica' 'Virginica' 'Virginica' 'Virginica' 'Versicolor' 'Virginica'\n",
      " 'Versicolor' 'Setosa' 'Virginica' 'Versicolor' 'Versicolor' 'Versicolor'\n",
      " 'Versicolor' 'Virginica' 'Setosa' 'Setosa' 'Virginica' 'Versicolor'\n",
      " 'Setosa' 'Setosa' 'Versicolor' 'Setosa' 'Virginica' 'Versicolor' 'Setosa'\n",
      " 'Versicolor' 'Virginica' 'Versicolor' 'Setosa' 'Virginica' 'Virginica'\n",
      " 'Virginica' 'Virginica' 'Setosa' 'Setosa' 'Virginica']\n"
     ]
    }
   ],
   "source": [
    "print(ytest)"
   ]
  },
  {
   "cell_type": "code",
   "execution_count": null,
   "metadata": {
    "colab": {
     "base_uri": "https://localhost:8080/"
    },
    "id": "Omqs-2N0VgId",
    "outputId": "f43db8bf-65cb-49e0-d1e9-043c89f03bcc"
   },
   "outputs": [],
   "source": []
  },
  {
   "cell_type": "code",
   "execution_count": 6,
   "metadata": {
    "colab": {
     "base_uri": "https://localhost:8080/"
    },
    "id": "ajmz2DP-VouL",
    "outputId": "4bd6bea2-7663-4bf0-a158-da070067b255"
   },
   "outputs": [
    {
     "data": {
      "text/plain": [
       "GaussianNB()"
      ]
     },
     "execution_count": 6,
     "metadata": {},
     "output_type": "execute_result"
    }
   ],
   "source": [
    "#from sklearn.ensemble import RandomForestClassifier\n",
    "#classifier = RandomForestClassifier(random_state = 0)\n",
    "#classifier.fit(xtrain, ytrain)\n",
    "\n",
    "from sklearn.naive_bayes import GaussianNB\n",
    "classifier = GaussianNB()\n",
    "classifier.fit(xtrain, ytrain)"
   ]
  },
  {
   "cell_type": "code",
   "execution_count": 7,
   "metadata": {
    "id": "d206h2KIVsty"
   },
   "outputs": [],
   "source": [
    "y_pred = classifier.predict(xtest)"
   ]
  },
  {
   "cell_type": "code",
   "execution_count": 8,
   "metadata": {
    "colab": {
     "base_uri": "https://localhost:8080/"
    },
    "id": "7XwK5xUhUnV4",
    "outputId": "63cd4be3-a90b-44da-ad7b-0f375f0cf627"
   },
   "outputs": [
    {
     "name": "stdout",
     "output_type": "stream",
     "text": [
      "['Virginica' 'Versicolor' 'Setosa' 'Virginica' 'Setosa' 'Virginica'\n",
      " 'Setosa' 'Versicolor' 'Versicolor' 'Versicolor' 'Versicolor' 'Versicolor'\n",
      " 'Versicolor' 'Versicolor' 'Versicolor' 'Setosa' 'Versicolor' 'Versicolor'\n",
      " 'Setosa' 'Setosa' 'Virginica' 'Versicolor' 'Setosa' 'Setosa' 'Virginica'\n",
      " 'Setosa' 'Setosa' 'Versicolor' 'Versicolor' 'Setosa' 'Virginica'\n",
      " 'Versicolor' 'Setosa' 'Virginica' 'Virginica' 'Versicolor' 'Setosa'\n",
      " 'Versicolor' 'Versicolor' 'Versicolor' 'Virginica' 'Setosa' 'Virginica'\n",
      " 'Setosa' 'Setosa' 'Versicolor' 'Virginica' 'Virginica' 'Versicolor'\n",
      " 'Virginica' 'Versicolor' 'Virginica' 'Versicolor' 'Versicolor'\n",
      " 'Virginica' 'Versicolor' 'Versicolor' 'Virginica' 'Versicolor'\n",
      " 'Virginica' 'Versicolor' 'Setosa' 'Virginica' 'Versicolor' 'Versicolor'\n",
      " 'Versicolor' 'Versicolor' 'Virginica' 'Setosa' 'Setosa' 'Virginica'\n",
      " 'Versicolor' 'Setosa' 'Setosa' 'Versicolor' 'Setosa' 'Virginica'\n",
      " 'Versicolor' 'Setosa' 'Versicolor' 'Virginica' 'Versicolor' 'Setosa'\n",
      " 'Virginica' 'Virginica' 'Virginica' 'Virginica' 'Setosa' 'Setosa'\n",
      " 'Virginica']\n",
      "['Virginica' 'Versicolor' 'Setosa' 'Virginica' 'Setosa' 'Virginica'\n",
      " 'Setosa' 'Versicolor' 'Versicolor' 'Versicolor' 'Virginica' 'Versicolor'\n",
      " 'Versicolor' 'Versicolor' 'Versicolor' 'Setosa' 'Versicolor' 'Versicolor'\n",
      " 'Setosa' 'Setosa' 'Virginica' 'Versicolor' 'Setosa' 'Setosa' 'Virginica'\n",
      " 'Setosa' 'Setosa' 'Versicolor' 'Versicolor' 'Setosa' 'Virginica'\n",
      " 'Versicolor' 'Setosa' 'Virginica' 'Virginica' 'Versicolor' 'Setosa'\n",
      " 'Versicolor' 'Versicolor' 'Versicolor' 'Virginica' 'Setosa' 'Virginica'\n",
      " 'Setosa' 'Setosa' 'Versicolor' 'Virginica' 'Virginica' 'Virginica'\n",
      " 'Virginica' 'Versicolor' 'Virginica' 'Versicolor' 'Versicolor'\n",
      " 'Virginica' 'Virginica' 'Virginica' 'Virginica' 'Versicolor' 'Virginica'\n",
      " 'Versicolor' 'Setosa' 'Virginica' 'Versicolor' 'Versicolor' 'Versicolor'\n",
      " 'Versicolor' 'Virginica' 'Setosa' 'Setosa' 'Virginica' 'Versicolor'\n",
      " 'Setosa' 'Setosa' 'Versicolor' 'Setosa' 'Virginica' 'Versicolor' 'Setosa'\n",
      " 'Versicolor' 'Virginica' 'Versicolor' 'Setosa' 'Virginica' 'Virginica'\n",
      " 'Virginica' 'Virginica' 'Setosa' 'Setosa' 'Virginica']\n"
     ]
    }
   ],
   "source": [
    "ytest\n",
    "print(y_pred)\n",
    "print(ytest)"
   ]
  },
  {
   "cell_type": "code",
   "execution_count": 9,
   "metadata": {
    "colab": {
     "base_uri": "https://localhost:8080/"
    },
    "id": "7puMnsLBVwJe",
    "outputId": "8f852647-950c-414d-fd67-8f0a8cf10008"
   },
   "outputs": [
    {
     "name": "stdout",
     "output_type": "stream",
     "text": [
      "              precision    recall  f1-score   support\n",
      "\n",
      "      Setosa       1.00      1.00      1.00        26\n",
      "  Versicolor       0.89      1.00      0.94        33\n",
      "   Virginica       1.00      0.87      0.93        31\n",
      "\n",
      "    accuracy                           0.96        90\n",
      "   macro avg       0.96      0.96      0.96        90\n",
      "weighted avg       0.96      0.96      0.96        90\n",
      "\n",
      "Confusion Matrix : \n",
      " [[26  0  0]\n",
      " [ 0 33  0]\n",
      " [ 0  4 27]]\n"
     ]
    }
   ],
   "source": [
    "from sklearn.metrics import confusion_matrix\n",
    "from sklearn import metrics\n",
    "cm = confusion_matrix(ytest, y_pred)\n",
    "print(metrics.classification_report(ytest, y_pred))\n",
    "  \n",
    "print (\"Confusion Matrix : \\n\", cm)"
   ]
  },
  {
   "cell_type": "code",
   "execution_count": 10,
   "metadata": {
    "colab": {
     "base_uri": "https://localhost:8080/"
    },
    "id": "QoK6lC5SWC4n",
    "outputId": "016a7b36-9c0c-4a57-d186-6fabbf2c69b9"
   },
   "outputs": [
    {
     "name": "stdout",
     "output_type": "stream",
     "text": [
      "Accuracy :  0.9555555555555556\n"
     ]
    }
   ],
   "source": [
    "from sklearn.metrics import accuracy_score\n",
    "print (\"Accuracy : \", accuracy_score(ytest, y_pred))"
   ]
  },
  {
   "cell_type": "code",
   "execution_count": null,
   "metadata": {},
   "outputs": [],
   "source": []
  }
 ],
 "metadata": {
  "colab": {
   "collapsed_sections": [],
   "name": "Logistic Regression-2.ipynb",
   "provenance": []
  },
  "kernelspec": {
   "display_name": "Python 3 (ipykernel)",
   "language": "python",
   "name": "python3"
  },
  "language_info": {
   "codemirror_mode": {
    "name": "ipython",
    "version": 3
   },
   "file_extension": ".py",
   "mimetype": "text/x-python",
   "name": "python",
   "nbconvert_exporter": "python",
   "pygments_lexer": "ipython3",
   "version": "3.11.4"
  }
 },
 "nbformat": 4,
 "nbformat_minor": 4
}
