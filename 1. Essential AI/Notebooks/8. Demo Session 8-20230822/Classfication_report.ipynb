{
 "cells": [
  {
   "cell_type": "code",
   "execution_count": 1,
   "metadata": {
    "colab": {
     "base_uri": "https://localhost:8080/"
    },
    "id": "Ygyddbv4UQlF",
    "outputId": "b6eb9c53-c06e-4dac-9ca3-05cc28478479"
   },
   "outputs": [
    {
     "name": "stdout",
     "output_type": "stream",
     "text": [
      "[[2 0 1]\n",
      " [0 1 1]\n",
      " [0 1 1]]\n",
      "              precision    recall  f1-score   support\n",
      "\n",
      "           c       1.00      0.67      0.80         3\n",
      "           h       0.50      0.50      0.50         2\n",
      "           f       0.33      0.50      0.40         2\n",
      "\n",
      "    accuracy                           0.57         7\n",
      "   macro avg       0.61      0.56      0.57         7\n",
      "weighted avg       0.67      0.57      0.60         7\n",
      "\n"
     ]
    }
   ],
   "source": [
    "# Importing the dependancies\n",
    "from sklearn import metrics\n",
    "# Predicted values\n",
    "y_pred = [\"c\", \"h\", \"h\", \"c\", \"f\", \"f\", \"f\"]\n",
    "# Actual values\n",
    "y_act = [\"c\", \"h\", \"f\", \"c\", \"h\", \"f\", \"c\"]\n",
    "# Printing the confusion matrix\n",
    "# The columns will show the instances predicted for each label,\n",
    "# and the rows will show the actual number of instances for each label.\n",
    "print(metrics.confusion_matrix(y_act, y_pred, labels=[\"c\", \"h\", \"f\"]))\n",
    "# Printing the precision and recall, among other metrics\n",
    "print(metrics.classification_report(y_act, y_pred, labels=[\"c\", \"h\",\"f\"]))"
   ]
  },
  {
   "cell_type": "code",
   "execution_count": null,
   "metadata": {},
   "outputs": [],
   "source": []
  },
  {
   "cell_type": "code",
   "execution_count": 2,
   "metadata": {},
   "outputs": [
    {
     "name": "stdout",
     "output_type": "stream",
     "text": [
      "[[1 0 1]\n",
      " [0 2 1]\n",
      " [1 0 1]]\n",
      "              precision    recall  f1-score   support\n",
      "\n",
      "           h       0.50      0.50      0.50         2\n",
      "           c       1.00      0.67      0.80         3\n",
      "           f       0.33      0.50      0.40         2\n",
      "\n",
      "    accuracy                           0.57         7\n",
      "   macro avg       0.61      0.56      0.57         7\n",
      "weighted avg       0.67      0.57      0.60         7\n",
      "\n"
     ]
    }
   ],
   "source": [
    "# self\n",
    "# Importing the dependancies\n",
    "from sklearn import metrics\n",
    "# Predicted values\n",
    "y_pred = [\"c\", \"h\", \"h\", \"c\", \"f\", \"f\", \"f\"]\n",
    "# Actual values\n",
    "y_act = [\"c\", \"h\", \"f\", \"c\", \"h\", \"f\", \"c\"]\n",
    "# Printing the confusion matrix\n",
    "# The columns will show the instances predicted for each label,\n",
    "# and the rows will show the actual number of instances for each label.\n",
    "print(metrics.confusion_matrix(y_act, y_pred, labels=[\"h\", \"c\", \"f\"]))\n",
    "# Printing the precision and recall, among other metrics\n",
    "print(metrics.classification_report(y_act, y_pred, labels=[\"h\", \"c\",\"f\"]))\n"
   ]
  },
  {
   "cell_type": "code",
   "execution_count": null,
   "metadata": {},
   "outputs": [],
   "source": []
  }
 ],
 "metadata": {
  "colab": {
   "name": "performance_classfication.ipynb",
   "provenance": []
  },
  "kernelspec": {
   "display_name": "Python 3 (ipykernel)",
   "language": "python",
   "name": "python3"
  },
  "language_info": {
   "codemirror_mode": {
    "name": "ipython",
    "version": 3
   },
   "file_extension": ".py",
   "mimetype": "text/x-python",
   "name": "python",
   "nbconvert_exporter": "python",
   "pygments_lexer": "ipython3",
   "version": "3.11.4"
  }
 },
 "nbformat": 4,
 "nbformat_minor": 4
}
